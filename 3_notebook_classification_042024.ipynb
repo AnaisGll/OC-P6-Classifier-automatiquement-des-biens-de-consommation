{
 "cells": [
  {
   "cell_type": "markdown",
   "id": "60989b77-3f63-4a24-a498-6385d00e07f9",
   "metadata": {},
   "source": [
    "# Projet 6 - Classifiez automatiquement des biens de consommation"
   ]
  },
  {
   "cell_type": "code",
   "execution_count": 2,
   "id": "97ac6920-b0fd-42ef-8c46-87706813f830",
   "metadata": {},
   "outputs": [
    {
     "name": "stderr",
     "output_type": "stream",
     "text": [
      "D:\\Programme\\lib\\site-packages\\paramiko\\transport.py:219: CryptographyDeprecationWarning: Blowfish has been deprecated\n",
      "  \"class\": algorithms.Blowfish,\n",
      "[nltk_data] Downloading package wordnet to\n",
      "[nltk_data]     C:\\Users\\Anais\\AppData\\Roaming\\nltk_data...\n",
      "[nltk_data]   Package wordnet is already up-to-date!\n",
      "[nltk_data] Downloading package stopwords to\n",
      "[nltk_data]     C:\\Users\\Anais\\AppData\\Roaming\\nltk_data...\n",
      "[nltk_data]   Package stopwords is already up-to-date!\n",
      "[nltk_data] Downloading package words to\n",
      "[nltk_data]     C:\\Users\\Anais\\AppData\\Roaming\\nltk_data...\n",
      "[nltk_data]   Package words is already up-to-date!\n",
      "[nltk_data] Downloading package punkt to\n",
      "[nltk_data]     C:\\Users\\Anais\\AppData\\Roaming\\nltk_data...\n",
      "[nltk_data]   Package punkt is already up-to-date!\n",
      "[nltk_data] Downloading package omw-1.4 to\n",
      "[nltk_data]     C:\\Users\\Anais\\AppData\\Roaming\\nltk_data...\n",
      "[nltk_data]   Package omw-1.4 is already up-to-date!\n",
      "[nltk_data] Downloading package averaged_perceptron_tagger to\n",
      "[nltk_data]     C:\\Users\\Anais\\AppData\\Roaming\\nltk_data...\n",
      "[nltk_data]   Package averaged_perceptron_tagger is already up-to-\n",
      "[nltk_data]       date!\n"
     ]
    }
   ],
   "source": [
    "import pandas as pd\n",
    "import numpy as np\n",
    "import matplotlib.pyplot as plt\n",
    "from matplotlib.image import imread\n",
    "import seaborn as sns\n",
    "import fonctions as fc\n",
    "import importlib\n",
    "import time\n",
    "\n",
    "from sklearn.manifold import TSNE\n",
    "from sklearn.decomposition import PCA\n",
    "from sklearn.cluster import KMeans\n",
    "from sklearn.preprocessing import LabelEncoder\n",
    "from sklearn import cluster, metrics\n",
    "\n",
    "import os\n",
    "from os import listdir\n",
    "from sklearn.model_selection import train_test_split\n",
    "from sklearn.metrics import accuracy_score, adjusted_rand_score, confusion_matrix, classification_report\n",
    "\n",
    "import tensorflow as tf\n",
    "from tensorflow.keras.models import Model, Sequential\n",
    "from tensorflow.keras.layers import GlobalAveragePooling2D, GlobalAveragePooling1D, Flatten, Dense, Dropout \n",
    "from tensorflow.keras.layers import Rescaling, RandomFlip, RandomRotation, RandomZoom\n",
    "from tensorflow.keras.callbacks import EarlyStopping, ModelCheckpoint\n",
    "from tensorflow.keras.applications.vgg16 import VGG16\n",
    "from tensorflow.keras.applications.vgg16 import preprocess_input\n",
    "from tensorflow.keras.preprocessing.image import load_img, img_to_array\n",
    "from tensorflow.keras.utils import to_categorical\n",
    "\n",
    "import cv2\n",
    "from PIL import Image, ImageOps, ImageFilter\n",
    "from IPython.display import Image, display"
   ]
  },
  {
   "cell_type": "code",
   "execution_count": 3,
   "id": "7036ea43-e392-42f9-b616-d4c9c547f3a8",
   "metadata": {},
   "outputs": [
    {
     "name": "stderr",
     "output_type": "stream",
     "text": [
      "[nltk_data] Downloading package wordnet to\n",
      "[nltk_data]     C:\\Users\\Anais\\AppData\\Roaming\\nltk_data...\n",
      "[nltk_data]   Package wordnet is already up-to-date!\n",
      "[nltk_data] Downloading package stopwords to\n",
      "[nltk_data]     C:\\Users\\Anais\\AppData\\Roaming\\nltk_data...\n",
      "[nltk_data]   Package stopwords is already up-to-date!\n",
      "[nltk_data] Downloading package words to\n",
      "[nltk_data]     C:\\Users\\Anais\\AppData\\Roaming\\nltk_data...\n",
      "[nltk_data]   Package words is already up-to-date!\n",
      "[nltk_data] Downloading package punkt to\n",
      "[nltk_data]     C:\\Users\\Anais\\AppData\\Roaming\\nltk_data...\n",
      "[nltk_data]   Package punkt is already up-to-date!\n",
      "[nltk_data] Downloading package omw-1.4 to\n",
      "[nltk_data]     C:\\Users\\Anais\\AppData\\Roaming\\nltk_data...\n",
      "[nltk_data]   Package omw-1.4 is already up-to-date!\n",
      "[nltk_data] Downloading package averaged_perceptron_tagger to\n",
      "[nltk_data]     C:\\Users\\Anais\\AppData\\Roaming\\nltk_data...\n",
      "[nltk_data]   Package averaged_perceptron_tagger is already up-to-\n",
      "[nltk_data]       date!\n"
     ]
    },
    {
     "data": {
      "text/plain": [
       "<module 'fonctions' from 'C:\\\\Users\\\\Anais\\\\Documents\\\\OpenClassRooms\\\\Projet6+Classifiez+automatiquement+des+biens+de+consommation\\\\Dataset+projet+prétraitement+textes+images\\\\Flipkart\\\\fonctions.py'>"
      ]
     },
     "execution_count": 3,
     "metadata": {},
     "output_type": "execute_result"
    }
   ],
   "source": [
    "importlib.reload(fc)"
   ]
  },
  {
   "cell_type": "markdown",
   "id": "17b0de8a-3e05-437f-9078-fa12ce39855d",
   "metadata": {},
   "source": [
    "# Enoncé\n",
    "\n",
    "Vous êtes Data Scientist au sein de l’entreprise \"Place de marché”, qui souhaite lancer une marketplace e-commerce.\n",
    "\n",
    "Sur cette place de marché anglophone, des vendeurs proposent des articles à des acheteurs en postant une photo et une description.\n",
    " \n",
    "Pour l'instant, l'attribution de la catégorie d'un article est effectuée manuellement par les vendeurs, et est donc peu fiable. De plus, le volume des articles est pour l’instant très pe\n",
    "\n",
    "Pour rendre l’expérience utilisateur des vendeurs (faciliter la mise en ligne de nouveaux articles) et des acheteurs (faciliter la recherche de produits) la plus fluide possible, et dans l'optique d'un passage à l'échelle,  il devient nécessaire d'automatiser cette tâche d‘attribution de la catrie.\n",
    "\n",
    "Linda, Lead Data Scientist, vous demande donc d'étudier la faisabilité d'un moteur de classification des articles en différentes catégories, à partir du texte (en anglais) et de l’image comme dans l’illustration\n",
    "\n",
    "# Missions\n",
    "\n",
    "La faisabilité de regrouper automatiquement des produits de même catégorie a pu être démontré dans les deux notebooks précédents.\n",
    "\n",
    "Dans ce notebook, nous nous concentrerons sur la réalisation d'une classification supervisée à partir d'images:\n",
    "\n",
    "\"Je souhaiterais que tu mettes en place une data augmentation afin d’optimiser le modèle.\n",
    "\r\n",
    "Nous souhaitons élargir notre gamme de produits, en particulier dans l’épicerie fine. Pourrais-tu tester la collecte de produits à base de “champagne” via l’API disponible ici ? Je souhaiterais que tu puisses nous fournir une extraction des 10 premiers produits dans un fichier “.csv”, contenant pour chaque produit les données suivantes : foodId, label, category, foodContentsLabel, imag\". \n"
   ]
  },
  {
   "cell_type": "markdown",
   "id": "c234018f-9f32-4424-8216-55c0f8612890",
   "metadata": {},
   "source": [
    "## I- Visualisation des données"
   ]
  },
  {
   "cell_type": "code",
   "execution_count": 4,
   "id": "fe36c49f-c942-40be-b4b0-4b5a7651b45a",
   "metadata": {},
   "outputs": [
    {
     "data": {
      "text/html": [
       "<div>\n",
       "<style scoped>\n",
       "    .dataframe tbody tr th:only-of-type {\n",
       "        vertical-align: middle;\n",
       "    }\n",
       "\n",
       "    .dataframe tbody tr th {\n",
       "        vertical-align: top;\n",
       "    }\n",
       "\n",
       "    .dataframe thead th {\n",
       "        text-align: right;\n",
       "    }\n",
       "</style>\n",
       "<table border=\"1\" class=\"dataframe\">\n",
       "  <thead>\n",
       "    <tr style=\"text-align: right;\">\n",
       "      <th></th>\n",
       "      <th>image</th>\n",
       "      <th>main_category</th>\n",
       "      <th>path_image</th>\n",
       "      <th>processed_images</th>\n",
       "    </tr>\n",
       "  </thead>\n",
       "  <tbody>\n",
       "    <tr>\n",
       "      <th>0</th>\n",
       "      <td>55b85ea15a1536d46b7190ad6fff8ce7.jpg</td>\n",
       "      <td>home furnishing</td>\n",
       "      <td>Images/55b85ea15a1536d46b7190ad6fff8ce7.jpg</td>\n",
       "      <td>Images_processed\\55b85ea15a1536d46b7190ad6fff8...</td>\n",
       "    </tr>\n",
       "    <tr>\n",
       "      <th>1</th>\n",
       "      <td>7b72c92c2f6c40268628ec5f14c6d590.jpg</td>\n",
       "      <td>baby care</td>\n",
       "      <td>Images/7b72c92c2f6c40268628ec5f14c6d590.jpg</td>\n",
       "      <td>Images_processed\\7b72c92c2f6c40268628ec5f14c6d...</td>\n",
       "    </tr>\n",
       "    <tr>\n",
       "      <th>2</th>\n",
       "      <td>64d5d4a258243731dc7bbb1eef49ad74.jpg</td>\n",
       "      <td>baby care</td>\n",
       "      <td>Images/64d5d4a258243731dc7bbb1eef49ad74.jpg</td>\n",
       "      <td>Images_processed\\64d5d4a258243731dc7bbb1eef49a...</td>\n",
       "    </tr>\n",
       "    <tr>\n",
       "      <th>3</th>\n",
       "      <td>d4684dcdc759dd9cdf41504698d737d8.jpg</td>\n",
       "      <td>home furnishing</td>\n",
       "      <td>Images/d4684dcdc759dd9cdf41504698d737d8.jpg</td>\n",
       "      <td>Images_processed\\d4684dcdc759dd9cdf41504698d73...</td>\n",
       "    </tr>\n",
       "    <tr>\n",
       "      <th>4</th>\n",
       "      <td>6325b6870c54cd47be6ebfbffa620ec7.jpg</td>\n",
       "      <td>home furnishing</td>\n",
       "      <td>Images/6325b6870c54cd47be6ebfbffa620ec7.jpg</td>\n",
       "      <td>Images_processed\\6325b6870c54cd47be6ebfbffa620...</td>\n",
       "    </tr>\n",
       "  </tbody>\n",
       "</table>\n",
       "</div>"
      ],
      "text/plain": [
       "                                  image    main_category  \\\n",
       "0  55b85ea15a1536d46b7190ad6fff8ce7.jpg  home furnishing   \n",
       "1  7b72c92c2f6c40268628ec5f14c6d590.jpg        baby care   \n",
       "2  64d5d4a258243731dc7bbb1eef49ad74.jpg        baby care   \n",
       "3  d4684dcdc759dd9cdf41504698d737d8.jpg  home furnishing   \n",
       "4  6325b6870c54cd47be6ebfbffa620ec7.jpg  home furnishing   \n",
       "\n",
       "                                    path_image  \\\n",
       "0  Images/55b85ea15a1536d46b7190ad6fff8ce7.jpg   \n",
       "1  Images/7b72c92c2f6c40268628ec5f14c6d590.jpg   \n",
       "2  Images/64d5d4a258243731dc7bbb1eef49ad74.jpg   \n",
       "3  Images/d4684dcdc759dd9cdf41504698d737d8.jpg   \n",
       "4  Images/6325b6870c54cd47be6ebfbffa620ec7.jpg   \n",
       "\n",
       "                                    processed_images  \n",
       "0  Images_processed\\55b85ea15a1536d46b7190ad6fff8...  \n",
       "1  Images_processed\\7b72c92c2f6c40268628ec5f14c6d...  \n",
       "2  Images_processed\\64d5d4a258243731dc7bbb1eef49a...  \n",
       "3  Images_processed\\d4684dcdc759dd9cdf41504698d73...  \n",
       "4  Images_processed\\6325b6870c54cd47be6ebfbffa620...  "
      ]
     },
     "execution_count": 4,
     "metadata": {},
     "output_type": "execute_result"
    }
   ],
   "source": [
    "# Import du jeu de données\n",
    "df = pd.read_csv(\"C:\\\\Users\\\\Anais\\\\Documents\\\\OpenClassRooms\\\\Projet6+Classifiez+automatiquement+des+biens+de+consommation\\\\Dataset+projet+prétraitement+textes+images\\\\Flipkart\\\\path_image_cleaned.csv\")\n",
    "pd.set_option(\"display.max_rows\", None)\n",
    "pd.set_option(\"display.max_columns\", None)\n",
    "df.head()"
   ]
  },
  {
   "cell_type": "code",
   "execution_count": 5,
   "id": "cce8590c-0127-4297-a96e-69919e986e9a",
   "metadata": {},
   "outputs": [
    {
     "name": "stdout",
     "output_type": "stream",
     "text": [
      "Ce jeu de donnée comporte 1050 lignes et 4 colonnes\n"
     ]
    }
   ],
   "source": [
    "print('Ce jeu de donnée comporte ' + str(df.shape[0]) + ' lignes et ' + str(df.shape[1]) + ' colonnes')"
   ]
  },
  {
   "cell_type": "code",
   "execution_count": 6,
   "id": "cb9b37c1-c9d4-4159-8059-2f0ca8c701ca",
   "metadata": {},
   "outputs": [
    {
     "name": "stdout",
     "output_type": "stream",
     "text": [
      "<class 'pandas.core.frame.DataFrame'>\n",
      "RangeIndex: 1050 entries, 0 to 1049\n",
      "Data columns (total 4 columns):\n",
      " #   Column            Non-Null Count  Dtype \n",
      "---  ------            --------------  ----- \n",
      " 0   image             1050 non-null   object\n",
      " 1   main_category     1050 non-null   object\n",
      " 2   path_image        1050 non-null   object\n",
      " 3   processed_images  1050 non-null   object\n",
      "dtypes: object(4)\n",
      "memory usage: 32.9+ KB\n"
     ]
    }
   ],
   "source": [
    "df.info()"
   ]
  },
  {
   "cell_type": "markdown",
   "id": "cadab8b8-97e5-4585-badd-e82dedfb1b1b",
   "metadata": {},
   "source": [
    "## II- Nettoyage des données\n",
    "\n",
    "On élimine les colonnes inutiles pour ce notebook"
   ]
  },
  {
   "cell_type": "code",
   "execution_count": 7,
   "id": "23a37d3e-4130-4fae-bda4-3d3b429d4bfb",
   "metadata": {},
   "outputs": [
    {
     "data": {
      "text/html": [
       "<div>\n",
       "<style scoped>\n",
       "    .dataframe tbody tr th:only-of-type {\n",
       "        vertical-align: middle;\n",
       "    }\n",
       "\n",
       "    .dataframe tbody tr th {\n",
       "        vertical-align: top;\n",
       "    }\n",
       "\n",
       "    .dataframe thead th {\n",
       "        text-align: right;\n",
       "    }\n",
       "</style>\n",
       "<table border=\"1\" class=\"dataframe\">\n",
       "  <thead>\n",
       "    <tr style=\"text-align: right;\">\n",
       "      <th></th>\n",
       "      <th>main_category</th>\n",
       "      <th>path_image</th>\n",
       "    </tr>\n",
       "  </thead>\n",
       "  <tbody>\n",
       "    <tr>\n",
       "      <th>0</th>\n",
       "      <td>home furnishing</td>\n",
       "      <td>Images/55b85ea15a1536d46b7190ad6fff8ce7.jpg</td>\n",
       "    </tr>\n",
       "    <tr>\n",
       "      <th>1</th>\n",
       "      <td>baby care</td>\n",
       "      <td>Images/7b72c92c2f6c40268628ec5f14c6d590.jpg</td>\n",
       "    </tr>\n",
       "    <tr>\n",
       "      <th>2</th>\n",
       "      <td>baby care</td>\n",
       "      <td>Images/64d5d4a258243731dc7bbb1eef49ad74.jpg</td>\n",
       "    </tr>\n",
       "    <tr>\n",
       "      <th>3</th>\n",
       "      <td>home furnishing</td>\n",
       "      <td>Images/d4684dcdc759dd9cdf41504698d737d8.jpg</td>\n",
       "    </tr>\n",
       "    <tr>\n",
       "      <th>4</th>\n",
       "      <td>home furnishing</td>\n",
       "      <td>Images/6325b6870c54cd47be6ebfbffa620ec7.jpg</td>\n",
       "    </tr>\n",
       "  </tbody>\n",
       "</table>\n",
       "</div>"
      ],
      "text/plain": [
       "     main_category                                   path_image\n",
       "0  home furnishing  Images/55b85ea15a1536d46b7190ad6fff8ce7.jpg\n",
       "1        baby care  Images/7b72c92c2f6c40268628ec5f14c6d590.jpg\n",
       "2        baby care  Images/64d5d4a258243731dc7bbb1eef49ad74.jpg\n",
       "3  home furnishing  Images/d4684dcdc759dd9cdf41504698d737d8.jpg\n",
       "4  home furnishing  Images/6325b6870c54cd47be6ebfbffa620ec7.jpg"
      ]
     },
     "execution_count": 7,
     "metadata": {},
     "output_type": "execute_result"
    }
   ],
   "source": [
    "# Elimination des variables inutiles pour ce notebook\n",
    "df = df.drop([\"image\", \"processed_images\"], axis= 1)\n",
    "df.head()"
   ]
  },
  {
   "cell_type": "markdown",
   "id": "e599a97e-6922-4b23-918c-e2ab8d9ed1d6",
   "metadata": {},
   "source": [
    "La variable 'main_category' doit être encodé"
   ]
  },
  {
   "cell_type": "code",
   "execution_count": 8,
   "id": "3971140f-ae4f-42fb-aca7-c3e7b58880cb",
   "metadata": {},
   "outputs": [
    {
     "data": {
      "text/html": [
       "<div>\n",
       "<style scoped>\n",
       "    .dataframe tbody tr th:only-of-type {\n",
       "        vertical-align: middle;\n",
       "    }\n",
       "\n",
       "    .dataframe tbody tr th {\n",
       "        vertical-align: top;\n",
       "    }\n",
       "\n",
       "    .dataframe thead th {\n",
       "        text-align: right;\n",
       "    }\n",
       "</style>\n",
       "<table border=\"1\" class=\"dataframe\">\n",
       "  <thead>\n",
       "    <tr style=\"text-align: right;\">\n",
       "      <th></th>\n",
       "      <th>main_category</th>\n",
       "      <th>path_image</th>\n",
       "      <th>class</th>\n",
       "    </tr>\n",
       "  </thead>\n",
       "  <tbody>\n",
       "    <tr>\n",
       "      <th>0</th>\n",
       "      <td>home furnishing</td>\n",
       "      <td>Images/55b85ea15a1536d46b7190ad6fff8ce7.jpg</td>\n",
       "      <td>4</td>\n",
       "    </tr>\n",
       "    <tr>\n",
       "      <th>1</th>\n",
       "      <td>baby care</td>\n",
       "      <td>Images/7b72c92c2f6c40268628ec5f14c6d590.jpg</td>\n",
       "      <td>0</td>\n",
       "    </tr>\n",
       "    <tr>\n",
       "      <th>2</th>\n",
       "      <td>baby care</td>\n",
       "      <td>Images/64d5d4a258243731dc7bbb1eef49ad74.jpg</td>\n",
       "      <td>0</td>\n",
       "    </tr>\n",
       "    <tr>\n",
       "      <th>3</th>\n",
       "      <td>home furnishing</td>\n",
       "      <td>Images/d4684dcdc759dd9cdf41504698d737d8.jpg</td>\n",
       "      <td>4</td>\n",
       "    </tr>\n",
       "    <tr>\n",
       "      <th>4</th>\n",
       "      <td>home furnishing</td>\n",
       "      <td>Images/6325b6870c54cd47be6ebfbffa620ec7.jpg</td>\n",
       "      <td>4</td>\n",
       "    </tr>\n",
       "  </tbody>\n",
       "</table>\n",
       "</div>"
      ],
      "text/plain": [
       "     main_category                                   path_image  class\n",
       "0  home furnishing  Images/55b85ea15a1536d46b7190ad6fff8ce7.jpg      4\n",
       "1        baby care  Images/7b72c92c2f6c40268628ec5f14c6d590.jpg      0\n",
       "2        baby care  Images/64d5d4a258243731dc7bbb1eef49ad74.jpg      0\n",
       "3  home furnishing  Images/d4684dcdc759dd9cdf41504698d737d8.jpg      4\n",
       "4  home furnishing  Images/6325b6870c54cd47be6ebfbffa620ec7.jpg      4"
      ]
     },
     "execution_count": 8,
     "metadata": {},
     "output_type": "execute_result"
    }
   ],
   "source": [
    "# Encodage de la catégorie\n",
    "encoder= LabelEncoder()\n",
    "df[\"class\"] = encoder.fit_transform(df[\"main_category\"])\n",
    "df.head()"
   ]
  },
  {
   "cell_type": "code",
   "execution_count": 9,
   "id": "43ab608d-8cfe-409b-b49c-3092bebc9261",
   "metadata": {},
   "outputs": [],
   "source": [
    "X = df.iloc[:,0:-1]\n",
    "y = df.iloc[:,-1]\n",
    "\n",
    "X_train, X_test, y_train, y_test = train_test_split(X, y, test_size=1/7, random_state=42)\n",
    "\n",
    "data_ = np.concatenate((X_train, y_train.to_numpy().reshape(-1, 1)), axis=1)\n",
    "data = pd.DataFrame(data_, columns=list(X.columns) + ['label'])\n",
    "data_test_ = np.concatenate((X_test, y_test.to_numpy().reshape(-1, 1)), axis=1)\n",
    "data_test = pd.DataFrame(data_test_, columns=list(X.columns) + ['label'])"
   ]
  },
  {
   "cell_type": "code",
   "execution_count": 10,
   "id": "7b176496-8d95-4ed4-b45e-3c0f69f19292",
   "metadata": {},
   "outputs": [
    {
     "name": "stdout",
     "output_type": "stream",
     "text": [
      "(900, 3)\n"
     ]
    },
    {
     "data": {
      "text/html": [
       "<div>\n",
       "<style scoped>\n",
       "    .dataframe tbody tr th:only-of-type {\n",
       "        vertical-align: middle;\n",
       "    }\n",
       "\n",
       "    .dataframe tbody tr th {\n",
       "        vertical-align: top;\n",
       "    }\n",
       "\n",
       "    .dataframe thead th {\n",
       "        text-align: right;\n",
       "    }\n",
       "</style>\n",
       "<table border=\"1\" class=\"dataframe\">\n",
       "  <thead>\n",
       "    <tr style=\"text-align: right;\">\n",
       "      <th></th>\n",
       "      <th>main_category</th>\n",
       "      <th>path_image</th>\n",
       "      <th>label</th>\n",
       "    </tr>\n",
       "  </thead>\n",
       "  <tbody>\n",
       "    <tr>\n",
       "      <th>0</th>\n",
       "      <td>watches</td>\n",
       "      <td>Images/c7207128c680a437e1cad834a8880007.jpg</td>\n",
       "      <td>6</td>\n",
       "    </tr>\n",
       "    <tr>\n",
       "      <th>1</th>\n",
       "      <td>beauty and personal care</td>\n",
       "      <td>Images/417ae3e8b08acc19a023b8a958644799.jpg</td>\n",
       "      <td>1</td>\n",
       "    </tr>\n",
       "  </tbody>\n",
       "</table>\n",
       "</div>"
      ],
      "text/plain": [
       "              main_category                                   path_image label\n",
       "0                   watches  Images/c7207128c680a437e1cad834a8880007.jpg     6\n",
       "1  beauty and personal care  Images/417ae3e8b08acc19a023b8a958644799.jpg     1"
      ]
     },
     "execution_count": 10,
     "metadata": {},
     "output_type": "execute_result"
    }
   ],
   "source": [
    "print(data.shape)\n",
    "data.head(2)"
   ]
  },
  {
   "cell_type": "code",
   "execution_count": 11,
   "id": "039f721a-a569-4c17-abb3-739be594f21e",
   "metadata": {},
   "outputs": [
    {
     "name": "stdout",
     "output_type": "stream",
     "text": [
      "(150, 3)\n"
     ]
    },
    {
     "data": {
      "text/html": [
       "<div>\n",
       "<style scoped>\n",
       "    .dataframe tbody tr th:only-of-type {\n",
       "        vertical-align: middle;\n",
       "    }\n",
       "\n",
       "    .dataframe tbody tr th {\n",
       "        vertical-align: top;\n",
       "    }\n",
       "\n",
       "    .dataframe thead th {\n",
       "        text-align: right;\n",
       "    }\n",
       "</style>\n",
       "<table border=\"1\" class=\"dataframe\">\n",
       "  <thead>\n",
       "    <tr style=\"text-align: right;\">\n",
       "      <th></th>\n",
       "      <th>main_category</th>\n",
       "      <th>path_image</th>\n",
       "      <th>label</th>\n",
       "    </tr>\n",
       "  </thead>\n",
       "  <tbody>\n",
       "    <tr>\n",
       "      <th>0</th>\n",
       "      <td>computers</td>\n",
       "      <td>Images/833a87b0af3b84fe246d2ebf271af177.jpg</td>\n",
       "      <td>2</td>\n",
       "    </tr>\n",
       "    <tr>\n",
       "      <th>1</th>\n",
       "      <td>kitchen and dining</td>\n",
       "      <td>Images/55195de3873fffaa9e37b041533d7305.jpg</td>\n",
       "      <td>5</td>\n",
       "    </tr>\n",
       "  </tbody>\n",
       "</table>\n",
       "</div>"
      ],
      "text/plain": [
       "        main_category                                   path_image label\n",
       "0           computers  Images/833a87b0af3b84fe246d2ebf271af177.jpg     2\n",
       "1  kitchen and dining  Images/55195de3873fffaa9e37b041533d7305.jpg     5"
      ]
     },
     "execution_count": 11,
     "metadata": {},
     "output_type": "execute_result"
    }
   ],
   "source": [
    "print(data_test.shape)\n",
    "data_test.head(2)"
   ]
  },
  {
   "cell_type": "markdown",
   "id": "8e8e6ed8-341b-4971-9ffa-d4214eafa9d5",
   "metadata": {},
   "source": [
    "## III- Classification supervisée\n",
    "\n",
    "### 3.1) Création du modèle de classification\n",
    "\n",
    "La fonction **create_model_fct()** retourne un modèle CNN pré-entraîné basé sur l'architecture VGG16 avec un nouveau classifieur ajouté. Le modèle est chargé avec les poids entraînés sur l'ensemble de données ImageNet. Seuls les derniers couches du modèle sont entraînables et les poids des couches de convolution sont figés. Le modèle est compilé avec une fonction de perte categorical_crossentropy et l'optimiseur rmsprop. Enfin, la fonction retourne le modèle."
   ]
  },
  {
   "cell_type": "code",
   "execution_count": 12,
   "id": "ad156f7c-7af3-40d5-9c7e-2a0726d8fb1b",
   "metadata": {},
   "outputs": [],
   "source": [
    "def create_model_fct() :\n",
    "    # Récupération modèle pré-entraîné\n",
    "    model0 = VGG16(include_top=False, weights=\"imagenet\", input_shape=(224, 224, 3))\n",
    "\n",
    "    # Layer non entraînables = on garde les poids du modèle pré-entraîné\n",
    "    for layer in model0.layers:\n",
    "        layer.trainable = False\n",
    "\n",
    "    # Récupérer la sortie de ce réseau\n",
    "    x = model0.output\n",
    "    # Compléter le modèle\n",
    "    x = GlobalAveragePooling2D()(x)\n",
    "    x = Dense(256, activation='relu')(x)\n",
    "    x = Dropout(0.5)(x)\n",
    "    predictions = Dense(7, activation='softmax')(x)\n",
    "\n",
    "    # Définir le nouveau modèle\n",
    "    model = Model(inputs=model0.input, outputs=predictions)\n",
    "    # compilation du modèle \n",
    "    model.compile(loss=\"categorical_crossentropy\", optimizer='rmsprop', metrics=[\"accuracy\"])\n",
    "\n",
    "    print(model.summary())\n",
    "    \n",
    "    return model"
   ]
  },
  {
   "cell_type": "markdown",
   "id": "0ca1e4b3-4940-4c90-ab01-9c785ad93b3c",
   "metadata": {},
   "source": [
    "### 3.2) Approche préparation initiale des images"
   ]
  },
  {
   "cell_type": "code",
   "execution_count": 13,
   "id": "72c2fed8-2892-462a-8d4f-bd9f0fe00046",
   "metadata": {},
   "outputs": [
    {
     "name": "stdout",
     "output_type": "stream",
     "text": [
      "(900, 224, 224, 3)\n",
      "(150, 224, 224, 3)\n"
     ]
    }
   ],
   "source": [
    "def image_prep_fct(data) :\n",
    "    prepared_images = []\n",
    "    for image_num in range(len(data['path_image'])) :\n",
    "        img = (load_img(\n",
    "            data['path_image'][image_num],\n",
    "            target_size=(224, 224)))\n",
    "        img = img_to_array(img)\n",
    "        img = img.reshape((img.shape[0], img.shape[1], img.shape[2]))\n",
    "        img = preprocess_input(img)\n",
    "        prepared_images.append(img)\n",
    "        prepared_images_np = np.array(prepared_images)\n",
    "    return prepared_images_np\n",
    "    \n",
    "images_np = image_prep_fct(data)\n",
    "print(images_np.shape)\n",
    "images_np_test = image_prep_fct(data_test)\n",
    "print(images_np_test.shape)"
   ]
  },
  {
   "cell_type": "markdown",
   "id": "22fad6dc-383e-4908-9a36-28d0e206280a",
   "metadata": {},
   "source": [
    "### 3.3) Séparation du jeu de données\n",
    "\n",
    "Utiliser la stratification lors de la séparation garantit que la distribution des catégories est maintenue uniformément dans tous les sous-ensembles"
   ]
  },
  {
   "cell_type": "code",
   "execution_count": 14,
   "id": "70227d2a-8c41-42fd-bd4e-ae86d499ac70",
   "metadata": {},
   "outputs": [
    {
     "data": {
      "text/plain": [
       "(675, 224, 224, 3)"
      ]
     },
     "execution_count": 14,
     "metadata": {},
     "output_type": "execute_result"
    }
   ],
   "source": [
    "X = images_np\n",
    "y = to_categorical(data['label'])\n",
    "\n",
    "X_test = images_np_test\n",
    "y_test = to_categorical(data_test['label'])\n",
    "\n",
    "X_train, X_val, y_train, y_val = train_test_split(X, y, stratify=y, test_size=0.25, random_state=42)\n",
    "X_train.shape"
   ]
  },
  {
   "cell_type": "markdown",
   "id": "79801d4f-dc63-482c-969a-6171a95730f0",
   "metadata": {},
   "source": [
    "### 3.4) Création du modèle"
   ]
  },
  {
   "cell_type": "code",
   "execution_count": 15,
   "id": "b82981e3-f9bc-470d-901c-b49b0ea561d4",
   "metadata": {},
   "outputs": [
    {
     "name": "stdout",
     "output_type": "stream",
     "text": [
      "Model: \"model\"\n",
      "_________________________________________________________________\n",
      " Layer (type)                Output Shape              Param #   \n",
      "=================================================================\n",
      " input_1 (InputLayer)        [(None, 224, 224, 3)]     0         \n",
      "                                                                 \n",
      " block1_conv1 (Conv2D)       (None, 224, 224, 64)      1792      \n",
      "                                                                 \n",
      " block1_conv2 (Conv2D)       (None, 224, 224, 64)      36928     \n",
      "                                                                 \n",
      " block1_pool (MaxPooling2D)  (None, 112, 112, 64)      0         \n",
      "                                                                 \n",
      " block2_conv1 (Conv2D)       (None, 112, 112, 128)     73856     \n",
      "                                                                 \n",
      " block2_conv2 (Conv2D)       (None, 112, 112, 128)     147584    \n",
      "                                                                 \n",
      " block2_pool (MaxPooling2D)  (None, 56, 56, 128)       0         \n",
      "                                                                 \n",
      " block3_conv1 (Conv2D)       (None, 56, 56, 256)       295168    \n",
      "                                                                 \n",
      " block3_conv2 (Conv2D)       (None, 56, 56, 256)       590080    \n",
      "                                                                 \n",
      " block3_conv3 (Conv2D)       (None, 56, 56, 256)       590080    \n",
      "                                                                 \n",
      " block3_pool (MaxPooling2D)  (None, 28, 28, 256)       0         \n",
      "                                                                 \n",
      " block4_conv1 (Conv2D)       (None, 28, 28, 512)       1180160   \n",
      "                                                                 \n",
      " block4_conv2 (Conv2D)       (None, 28, 28, 512)       2359808   \n",
      "                                                                 \n",
      " block4_conv3 (Conv2D)       (None, 28, 28, 512)       2359808   \n",
      "                                                                 \n",
      " block4_pool (MaxPooling2D)  (None, 14, 14, 512)       0         \n",
      "                                                                 \n",
      " block5_conv1 (Conv2D)       (None, 14, 14, 512)       2359808   \n",
      "                                                                 \n",
      " block5_conv2 (Conv2D)       (None, 14, 14, 512)       2359808   \n",
      "                                                                 \n",
      " block5_conv3 (Conv2D)       (None, 14, 14, 512)       2359808   \n",
      "                                                                 \n",
      " block5_pool (MaxPooling2D)  (None, 7, 7, 512)         0         \n",
      "                                                                 \n",
      " global_average_pooling2d (G  (None, 512)              0         \n",
      " lobalAveragePooling2D)                                          \n",
      "                                                                 \n",
      " dense (Dense)               (None, 256)               131328    \n",
      "                                                                 \n",
      " dropout (Dropout)           (None, 256)               0         \n",
      "                                                                 \n",
      " dense_1 (Dense)             (None, 7)                 1799      \n",
      "                                                                 \n",
      "=================================================================\n",
      "Total params: 14,847,815\n",
      "Trainable params: 133,127\n",
      "Non-trainable params: 14,714,688\n",
      "_________________________________________________________________\n",
      "None\n"
     ]
    }
   ],
   "source": [
    "# Création du modèle\n",
    "with tf.device('/cpu:0'): \n",
    "    model1 = create_model_fct()\n",
    "\n",
    "# Création du callback\n",
    "model1_save_path1 = \"./model1_best_weights.h5\"\n",
    "#checkpoint = ModelCheckpoint(model1_save_path1, monitor='val_accuracy', verbose=1, save_best_only=True, mode='max')\n",
    "checkpoint = ModelCheckpoint(model1_save_path1, monitor='val_loss', verbose=1, save_best_only=True, mode='min')\n",
    "#es = EarlyStopping(monitor='val_accuracy', mode='max', verbose=1, patience=5)\n",
    "es = EarlyStopping(monitor='val_loss', mode='min', verbose=1, patience=5)\n",
    "callbacks_list = [checkpoint, es]"
   ]
  },
  {
   "cell_type": "markdown",
   "id": "8d8f8f15-b316-481d-91d5-fe3bf25a4a6b",
   "metadata": {},
   "source": [
    "- **'Layer(Type)'** nous montre le nom et le type de chaque couche du modèle. Par exemple, 'input_1' est une couche d'entrée, alors que 'block1_conv1' est une couche de convolution.\n",
    "\n",
    "- **'Output Shape'** est la forme de sortie de chaque couche. Par exemple \"(None, 224, 224, 64)\" signifie qu'après cette couche, la sortie sera un tenseur de dimension (None, 224, 224, 64), où 'None' est la taille du lot (batch size), et les dimensions suivantes correspondent aux dimensions spatiales de la sortie de la couche et le dernier nombre représente le nombre de canaux\n",
    "\n",
    "- **'Param #'** représente le nombre de paramètre de chaque couche\n",
    "\n",
    "- **'Total params'** représente le nombre total de paramètres dans le modèle incluant 'Trainable params' et 'Non-trainable params'\n",
    "  \n",
    "- **'Trainable params'** représente les paramètres que le modèle peut apprendre pendant l'entraînement, généralement les poids des couches ajouté (par exemple, les poids des couches Denses).\n",
    "\n",
    "- **'\r\n",
    "Non-trainable para'** représentent les paramètres qui proviennent de couches pré-entraînées et qui ne seront pas modifiés pendant l'entraîneme (t les poids des couches de convolution de VGG).s.\n",
    "\n"
   ]
  },
  {
   "cell_type": "code",
   "execution_count": 16,
   "id": "18819065-83f0-474c-a1f0-30c4e0586fde",
   "metadata": {},
   "outputs": [
    {
     "name": "stdout",
     "output_type": "stream",
     "text": [
      "Epoch 1/50\n",
      "11/11 [==============================] - ETA: 0s - loss: 5.4583 - accuracy: 0.4356 \n",
      "Epoch 1: val_loss improved from inf to 1.04060, saving model to .\\model1_best_weights.h5\n",
      "11/11 [==============================] - 153s 14s/step - loss: 5.4583 - accuracy: 0.4356 - val_loss: 1.0406 - val_accuracy: 0.7600\n",
      "Epoch 2/50\n",
      "11/11 [==============================] - ETA: 0s - loss: 1.8237 - accuracy: 0.7156 \n",
      "Epoch 2: val_loss improved from 1.04060 to 0.90930, saving model to .\\model1_best_weights.h5\n",
      "11/11 [==============================] - 151s 14s/step - loss: 1.8237 - accuracy: 0.7156 - val_loss: 0.9093 - val_accuracy: 0.7956\n",
      "Epoch 3/50\n",
      "11/11 [==============================] - ETA: 0s - loss: 1.2798 - accuracy: 0.7793 \n",
      "Epoch 3: val_loss improved from 0.90930 to 0.81853, saving model to .\\model1_best_weights.h5\n",
      "11/11 [==============================] - 153s 14s/step - loss: 1.2798 - accuracy: 0.7793 - val_loss: 0.8185 - val_accuracy: 0.8133\n",
      "Epoch 4/50\n",
      "11/11 [==============================] - ETA: 0s - loss: 0.9038 - accuracy: 0.7926 \n",
      "Epoch 4: val_loss did not improve from 0.81853\n",
      "11/11 [==============================] - 153s 14s/step - loss: 0.9038 - accuracy: 0.7926 - val_loss: 0.8730 - val_accuracy: 0.8000\n",
      "Epoch 5/50\n",
      "11/11 [==============================] - ETA: 0s - loss: 0.5514 - accuracy: 0.8415 \n",
      "Epoch 5: val_loss improved from 0.81853 to 0.78193, saving model to .\\model1_best_weights.h5\n",
      "11/11 [==============================] - 153s 14s/step - loss: 0.5514 - accuracy: 0.8415 - val_loss: 0.7819 - val_accuracy: 0.7956\n",
      "Epoch 6/50\n",
      "11/11 [==============================] - ETA: 0s - loss: 0.4740 - accuracy: 0.8667 \n",
      "Epoch 6: val_loss did not improve from 0.78193\n",
      "11/11 [==============================] - 153s 14s/step - loss: 0.4740 - accuracy: 0.8667 - val_loss: 0.7976 - val_accuracy: 0.8133\n",
      "Epoch 7/50\n",
      "11/11 [==============================] - ETA: 0s - loss: 0.4369 - accuracy: 0.8756 \n",
      "Epoch 7: val_loss improved from 0.78193 to 0.76975, saving model to .\\model1_best_weights.h5\n",
      "11/11 [==============================] - 154s 14s/step - loss: 0.4369 - accuracy: 0.8756 - val_loss: 0.7697 - val_accuracy: 0.8044\n",
      "Epoch 8/50\n",
      "11/11 [==============================] - ETA: 0s - loss: 0.3326 - accuracy: 0.8948 \n",
      "Epoch 8: val_loss improved from 0.76975 to 0.68732, saving model to .\\model1_best_weights.h5\n",
      "11/11 [==============================] - 153s 14s/step - loss: 0.3326 - accuracy: 0.8948 - val_loss: 0.6873 - val_accuracy: 0.8356\n",
      "Epoch 9/50\n",
      "11/11 [==============================] - ETA: 0s - loss: 0.2872 - accuracy: 0.9052 \n",
      "Epoch 9: val_loss did not improve from 0.68732\n",
      "11/11 [==============================] - 153s 14s/step - loss: 0.2872 - accuracy: 0.9052 - val_loss: 0.7278 - val_accuracy: 0.8000\n",
      "Epoch 10/50\n",
      "11/11 [==============================] - ETA: 0s - loss: 0.1663 - accuracy: 0.9437 \n",
      "Epoch 10: val_loss did not improve from 0.68732\n",
      "11/11 [==============================] - 153s 14s/step - loss: 0.1663 - accuracy: 0.9437 - val_loss: 0.7470 - val_accuracy: 0.8178\n",
      "Epoch 11/50\n",
      "11/11 [==============================] - ETA: 0s - loss: 0.1265 - accuracy: 0.9585 \n",
      "Epoch 11: val_loss did not improve from 0.68732\n",
      "11/11 [==============================] - 153s 14s/step - loss: 0.1265 - accuracy: 0.9585 - val_loss: 0.7094 - val_accuracy: 0.8267\n",
      "Epoch 12/50\n",
      "11/11 [==============================] - ETA: 0s - loss: 0.1268 - accuracy: 0.9541 \n",
      "Epoch 12: val_loss did not improve from 0.68732\n",
      "11/11 [==============================] - 153s 14s/step - loss: 0.1268 - accuracy: 0.9541 - val_loss: 0.8238 - val_accuracy: 0.8133\n",
      "Epoch 13/50\n",
      "11/11 [==============================] - ETA: 0s - loss: 0.1494 - accuracy: 0.9526 \n",
      "Epoch 13: val_loss did not improve from 0.68732\n",
      "11/11 [==============================] - 153s 14s/step - loss: 0.1494 - accuracy: 0.9526 - val_loss: 0.8315 - val_accuracy: 0.8267\n",
      "Epoch 13: early stopping\n"
     ]
    }
   ],
   "source": [
    "# Entraîner sur les données d'entraînement (X_train, y_train)\n",
    "with tf.device('/cpu:0'): \n",
    "    history1 = model1.fit(X_train, y_train, epochs=50, batch_size=64, \n",
    "                       callbacks=callbacks_list, validation_data=(X_val, y_val), verbose=1)"
   ]
  },
  {
   "cell_type": "markdown",
   "id": "a6c93173-0bee-45be-b65d-90a560dbe95b",
   "metadata": {},
   "source": [
    "Le processus continue pour chaque époque continue jusqu'à ce que les critères d'arrêt soient satisfaits. L'entraînement a été arrêté prématurément après la 17ème époque car il n'y avait pas d'amélioration de la perte de validation pendant 5 époques consécutives (selon les critères définis par EarlyStopping).\n",
    "\r\n",
    "\r\n",
    "\r\n",
    "\r\n"
   ]
  },
  {
   "cell_type": "code",
   "execution_count": 17,
   "id": "568a15fd-3223-4a15-b583-5dfd2a8d578e",
   "metadata": {},
   "outputs": [
    {
     "name": "stdout",
     "output_type": "stream",
     "text": [
      "22/22 [==============================] - 114s 5s/step - loss: 0.0121 - accuracy: 0.9970\n",
      "Training Accuracy: 0.9970\n",
      "\n",
      "8/8 [==============================] - 41s 5s/step - loss: 0.8315 - accuracy: 0.8267\n",
      "Validation Accuracy:  0.8267\n"
     ]
    }
   ],
   "source": [
    "# Score du dernier epoch\n",
    "loss, accuracy = model1.evaluate(X_train, y_train, verbose=True)\n",
    "print(\"Training Accuracy: {:.4f}\".format(accuracy))\n",
    "print()\n",
    "loss, accuracy = model1.evaluate(X_val, y_val, verbose=True)\n",
    "print(\"Validation Accuracy:  {:.4f}\".format(accuracy))"
   ]
  },
  {
   "cell_type": "markdown",
   "id": "2a6a1034-45cb-4b93-ac44-aaeebb028d95",
   "metadata": {},
   "source": [
    "- **Training Accuracy**: La précision sur l'ensemble des données d'entraînement est de presque 100%, ce qui signifie que le modèle a réussi à classifier correctement toutes les images de l'ensemble d'entraînement.\n",
    "  \n",
    "- **Validation Accuracy :** La précision sur l'ensemble de validation est de 82.67%, ce qui signifie que le modèle a réussi à classifier correctement environ 82,67% des images de l'ensemble de validation.\n",
    "\n",
    "Un écart entre la précision sur l'ensemble d'entraînement et sur l'ensemble de validation peut indiquer un overfitting. Cependant, la différence ici n'est pas significative, ce qui suggère que le modèle généralise bien."
   ]
  },
  {
   "cell_type": "code",
   "execution_count": 18,
   "id": "9890a9f2-f452-45c2-bcd5-3d5b76ac6b23",
   "metadata": {},
   "outputs": [
    {
     "name": "stdout",
     "output_type": "stream",
     "text": [
      "Validation Accuracy :  0.8356\n",
      "Test Accuracy       :  0.8200\n"
     ]
    }
   ],
   "source": [
    "# Score de l'epoch optimal\n",
    "model1.load_weights(model1_save_path1)\n",
    "\n",
    "loss, accuracy = model1.evaluate(X_val, y_val, verbose=False)\n",
    "print(\"Validation Accuracy :  {:.4f}\".format(accuracy))\n",
    "\n",
    "loss, accuracy = model1.evaluate(X_test, y_test, verbose=False)\n",
    "print(\"Test Accuracy       :  {:.4f}\".format(accuracy))"
   ]
  },
  {
   "cell_type": "markdown",
   "id": "b8101107-1351-46b3-a54d-ca658d522bdc",
   "metadata": {},
   "source": [
    "Ces résultats montrent que le modèle se comporte de manière similaire sur l'ensemble de validation et sur l'ensemble de test, ce qui est une indication que le modèle généralise bien et qu'il n'y a pas de surapprentissage significatif. "
   ]
  },
  {
   "cell_type": "code",
   "execution_count": 19,
   "id": "ad6d005e-e89b-4cab-bfeb-4d1bcdd3824f",
   "metadata": {},
   "outputs": [
    {
     "data": {
      "text/html": [
       "\n",
       "        <style>\n",
       "            .support_message_main_box {\n",
       "                position: relative;\n",
       "                display: table-cell;\n",
       "                vertical-align: middle;\n",
       "                width: 100%;\n",
       "                height: 8em;\n",
       "                padding: 1em;\n",
       "                padding-left: 11em;\n",
       "                background-color: #f7f7f7;\n",
       "                border: 1px solid #cfcfcf;\n",
       "                border-radius: 2px;\n",
       "            }\n",
       "            .support_message_main_box img {\n",
       "                position: absolute;\n",
       "                height: 9em;\n",
       "                width: 9em;\n",
       "                left: 0.5em;\n",
       "                top: 0.5em;\n",
       "                border-radius: 1em;\n",
       "            }\n",
       "        </style>\n",
       "        <div class=\"support_message_main_box\">\n",
       "            <img src=\"https://avatars.githubusercontent.com/u/7738570?v=4\" />\n",
       "            <p>\n",
       "            <b>Hi!</b><br/>\n",
       "            <span>I am the author of\n",
       "            <a href=\"https://github.com/LucaCappelletti94/plot_keras_history\" target=\"_blank\">\n",
       "                plot_keras_history\n",
       "            </a>, which you use in this Notebook.\n",
       "            </span><br/>\n",
       "            \n",
       "            <span>I love to code, but I also need coffee.</span>\n",
       "            <a href=\"https://github.com/sponsors/LucaCappelletti94\" target=\"_blank\">\n",
       "                Please sponsor me on GitHub ❤️\n",
       "            </a><br/>\n",
       "            <i>Good luck in your coding 🍀!</i>\n",
       "            <br/>\n",
       "            <i>- Luca</i>\n",
       "            </p>\n",
       "        <div>\n",
       "        "
      ],
      "text/plain": [
       "<IPython.core.display.HTML object>"
      ]
     },
     "metadata": {},
     "output_type": "display_data"
    },
    {
     "data": {
      "image/png": "[encoded data removed]",
      "text/plain": [
       "<Figure size 1000x500 with 2 Axes>"
      ]
     },
     "metadata": {},
     "output_type": "display_data"
    }
   ],
   "source": [
    "from plot_keras_history import show_history, plot_history\n",
    "\n",
    "show_history(history1)\n",
    "plot_history(history1, path=\"standard.png\")\n",
    "plt.close()"
   ]
  },
  {
   "cell_type": "markdown",
   "id": "d8980579-606c-4dc8-abb1-9c69a3a245fc",
   "metadata": {},
   "source": [
    "- Sur le graphique **Loss**, la courbe train diminue rapidement pendant les premières époques, ce qui indique que le modèle apprend rapidement à ajuster ses poids pour minimiser la perte sur les données d'entraînement. Après cela, la courbe semble se stabiliser, ce qui suggère que son apprentissage ralentit. \r\n",
    "D'autre part, la courbe test reste relativement constan92, ce qui signifie que la pertt ne diminue pas significativement au fil des époques. Cela peut indiquer que le modèil atteint une limite de performance sur cet ensemble de données spécifiqu\n",
    "  \n",
    "- Sur le graphique **Accuracy**,  la courbe train augmente progressivement alors que la courbe test semble augmenter mais cela reste léger. Les valeurs indiquent une différence de performance entre les données train et test. La précision sur l'ensemble d'entraînement est plus élevée que sur l'ensemble de test. Cela peut suggérer un léger surapprentissage, où le modèle s'adapte trop étroitement aux données d'entraînement spécifiques et ne généralise pas aussi bien sur de nouvelles données. ion."
   ]
  },
  {
   "cell_type": "code",
   "execution_count": 20,
   "id": "166beeec-5978-4ba6-8093-0506d7a8d8fc",
   "metadata": {},
   "outputs": [
    {
     "name": "stdout",
     "output_type": "stream",
     "text": [
      "8/8 [==============================] - 37s 5s/step\n",
      "[2 2 3 0 1 5 3 6 3 4 0 1 5 2 3 5 4 1 2 4 3 0 4 2 2 5 3 2 5 1 3 0 0 2 5 5 1\n",
      " 2 1 2 2 0 3 6 4 6 5 4 6 1 6 0 5 5 5 1 0 2 6 4 0 0 5 6 3 1 0 6 1 1 6 3 0 0\n",
      " 3 1 4 4 6 0 2 0 6 3 2 6 4 0 4 5 6 2 0 1 0 3 2 3 5 3 5 0 0 5 3 6 5 1 1 0 5\n",
      " 6 3 0 2 2 5 1 0 1 1 4 6 0 6 1 1 4 4 0 5 4 4 3 4 1 3 6 3 5 1 2 6 4 6 2 4 5\n",
      " 1 2 6 6 5 0 1 6 2 3 0 1 3 0 5 1 5 3 4 4 2 6 6 4 1 0 1 5 0 3 4 5 5 0 3 4 6\n",
      " 1 5 5 2 4 1 2 4 5 3 1 2 6 6 5 6 1 4 2 0 2 6 3 4 1 3 6 3 3 2 4 4 4 3 3 6 1\n",
      " 6 0 2]\n",
      "\n",
      "[2 2 3 0 1 5 4 6 3 4 0 1 5 3 3 5 0 1 2 0 3 4 0 1 2 5 3 2 5 1 3 0 3 2 5 5 1\n",
      " 2 1 2 2 4 3 6 0 6 5 4 6 6 6 0 2 5 5 1 2 1 6 4 0 0 5 6 3 1 0 6 1 1 6 3 1 0\n",
      " 1 1 4 4 6 0 2 0 6 2 2 6 4 0 4 5 6 2 0 3 1 0 5 3 5 3 5 0 0 5 3 6 3 1 1 0 5\n",
      " 6 3 0 2 2 3 1 0 3 5 4 6 0 6 1 1 2 4 0 5 4 4 3 4 1 3 6 3 1 2 2 6 4 6 2 4 5\n",
      " 1 2 6 6 5 0 1 6 2 3 4 1 3 0 5 1 5 3 4 4 2 6 6 4 1 0 1 5 0 3 4 5 5 0 6 4 6\n",
      " 1 5 2 3 0 1 2 0 5 3 1 2 6 2 5 6 1 4 2 0 2 6 3 4 1 3 6 3 5 2 4 4 4 3 3 6 1\n",
      " 6 3 2]\n"
     ]
    }
   ],
   "source": [
    "# Récupération des données sur le meilleur epoch\n",
    "y_val_num = np.argmax(y_val, axis=1)\n",
    "y_val_pred = np.argmax(model1.predict(X_val), axis=1)\n",
    "y_val_num = np.argmax(y_val, axis=1)\n",
    "print(y_val_num)\n",
    "print()\n",
    "print(y_val_pred)"
   ]
  },
  {
   "cell_type": "code",
   "execution_count": 21,
   "id": "f76dbf79-a609-4987-bffe-86c0de29167a",
   "metadata": {},
   "outputs": [
    {
     "name": "stdout",
     "output_type": "stream",
     "text": [
      "[[25  2  1  2  3  0  0]\n",
      " [ 0 29  1  2  0  1  1]\n",
      " [ 0  2 25  2  0  1  0]\n",
      " [ 1  1  1 26  1  1  1]\n",
      " [ 6  0  1  0 24  0  0]\n",
      " [ 0  1  2  2  0 27  0]\n",
      " [ 0  0  1  0  0  0 32]]\n"
     ]
    }
   ],
   "source": [
    "conf_mat = metrics.confusion_matrix(y_val_num, y_val_pred)\n",
    "print(conf_mat)"
   ]
  },
  {
   "cell_type": "markdown",
   "id": "151fb509-5174-4e1e-ab2a-692ff6ee5b48",
   "metadata": {},
   "source": [
    "La matrice de confusion révèle les performances de notre modèle de classification. Nous pouvons voir que certaines classes sont bien prédites, tandis que d'autres ont plus d'erreurs de prédiction.\n"
   ]
  },
  {
   "cell_type": "code",
   "execution_count": 22,
   "id": "4f14e6f7-966c-4d85-962d-df72cd2e02df",
   "metadata": {},
   "outputs": [],
   "source": [
    "def conf_mat_transform(y_true,y_pred) :\n",
    "    conf_mat = metrics.confusion_matrix(y_true,y_pred)\n",
    "    \n",
    "    corresp = np.argmax(conf_mat, axis=0)\n",
    "    print (\"Correspondance des clusters : \", corresp)\n",
    "    # y_pred_transform = np.apply_along_axis(correspond_fct, 1, y_pred)\n",
    "    labels = pd.Series(y_true, name=\"y_true\").to_frame()\n",
    "    labels['y_pred'] = y_pred\n",
    "    labels['y_pred_transform'] = labels['y_pred'].apply(lambda x : corresp[x]) \n",
    "    \n",
    "    return labels['y_pred_transform']"
   ]
  },
  {
   "cell_type": "code",
   "execution_count": 23,
   "id": "a46e7703-6902-47c7-825f-2a56eae82ab5",
   "metadata": {},
   "outputs": [
    {
     "name": "stdout",
     "output_type": "stream",
     "text": [
      "Correspondance des clusters :  [0 1 2 3 4 5 6]\n",
      "[[25  2  1  2  3  0  0]\n",
      " [ 0 29  1  2  0  1  1]\n",
      " [ 0  2 25  2  0  1  0]\n",
      " [ 1  1  1 26  1  1  1]\n",
      " [ 6  0  1  0 24  0  0]\n",
      " [ 0  1  2  2  0 27  0]\n",
      " [ 0  0  1  0  0  0 32]]\n",
      "\n",
      "              precision    recall  f1-score   support\n",
      "\n",
      "           0       0.78      0.76      0.77        33\n",
      "           1       0.83      0.85      0.84        34\n",
      "           2       0.78      0.83      0.81        30\n",
      "           3       0.76      0.81      0.79        32\n",
      "           4       0.86      0.77      0.81        31\n",
      "           5       0.90      0.84      0.87        32\n",
      "           6       0.94      0.97      0.96        33\n",
      "\n",
      "    accuracy                           0.84       225\n",
      "   macro avg       0.84      0.83      0.83       225\n",
      "weighted avg       0.84      0.84      0.84       225\n",
      "\n"
     ]
    }
   ],
   "source": [
    "y_val_pred_transform = conf_mat_transform(y_val_num, y_val_pred)\n",
    "conf_mat = metrics.confusion_matrix(y_val_num, y_val_pred_transform)\n",
    "print(conf_mat)\n",
    "print()\n",
    "print(metrics.classification_report(y_val_num, y_val_pred_transform))"
   ]
  },
  {
   "cell_type": "markdown",
   "id": "f4130777-bb4d-4323-9d12-3b95b7920e43",
   "metadata": {},
   "source": [
    "Les mesures de précision, recall et f1-score donnent une évaluation plus détaillée de la performance du modèle pour chaque classe. Par exemple, la classe 5 a une précision de 0.90, ce qui signifie que 90% des exemples prédits comme appartenant à la classe 5 le sont réellement. Le recall de 0.87 signifie que le modèle a réussi à capturer 87% de tous les exemples de la classe 5.\n",
    "\n",
    "L'accuracy globale du modèle est de 0.84, ce qui indique que le modèle a correctement classé environ 84% des exemples de l'ensemble de test. Les valeurs macro avg et weighted avg fournissent des moyennes pondérées des mesures de performance, prenant en compte les déséquilibres de classes."
   ]
  },
  {
   "cell_type": "code",
   "execution_count": 24,
   "id": "f8a34710-c727-4e55-bafc-5a8c88f1d9ef",
   "metadata": {},
   "outputs": [
    {
     "data": {
      "text/plain": [
       "['baby care',\n",
       " 'beauty and personal care',\n",
       " 'computers',\n",
       " 'home decor and festive needs',\n",
       " 'home furnishing',\n",
       " 'kitchen and dining',\n",
       " 'watches']"
      ]
     },
     "execution_count": 24,
     "metadata": {},
     "output_type": "execute_result"
    }
   ],
   "source": [
    "data['label_name'] = data['main_category'].astype('category')\n",
    "list_labels = list(data['label_name'].cat.categories)\n",
    "list_labels"
   ]
  },
  {
   "cell_type": "code",
   "execution_count": 25,
   "id": "380295e5-7c0b-45b0-b341-ae48e4735656",
   "metadata": {},
   "outputs": [
    {
     "data": {
      "text/plain": [
       "<Axes: >"
      ]
     },
     "execution_count": 25,
     "metadata": {},
     "output_type": "execute_result"
    },
    {
     "data": {
      "image/png": "[encoded data removed]",
      "text/plain": [
       "<Figure size 400x400 with 2 Axes>"
      ]
     },
     "metadata": {},
     "output_type": "display_data"
    }
   ],
   "source": [
    "df_cm = pd.DataFrame(conf_mat, index = [label for label in list_labels],\n",
    "                  columns = [i for i in \"0123456\"])\n",
    "plt.figure(figsize = (4, 4))\n",
    "sns.heatmap(df_cm, annot=True, cmap=\"Blues\", fmt='g')"
   ]
  },
  {
   "cell_type": "markdown",
   "id": "194edd14-6a4d-4132-9308-d93609935571",
   "metadata": {},
   "source": [
    "## IV- Approche ImageDatagenerator avec data augmentation\n",
    "\n",
    "ImageDataGenerator est une classe de la bibliothèque tensorflow.keras.preprocessing.image qui permet de créer des générateurs d'images en temps réel pour l'entraînement de modèles de réseaux de neurones convolutionnels en utilisant des données d'images stockées sur le disque.\r\n",
    "\r\n",
    "Lorsqu'on utilise ImageDataGenerator, on définit des transformations d'images, appelées augmentations de données, qui seront appliquées aux images d'entraînement en temps réel pendant l'entraînement du modèle. Ces augmentations de données peuvent inclure des rotations aléatoires, des translations, des changements d'échelle, des retournements horizontaux et verticaux, et d'autres techniques pour améliorer la diversité des données d'entraînement.\r\n",
    "\r\n",
    "En utilisant ImageDataGenerator, on peut charger les images à la volée, en les prétraitant et en les augmentant en temps réel, ce qui permet de travailler avec des ensembles de données volumineux qui ne peuvent pas être chargés en mémoire en une seule fois. Cela permet également d'éviter le surapprentissage en augmentant la diversité des données d'entraînemmages."
   ]
  },
  {
   "cell_type": "code",
   "execution_count": 26,
   "id": "7d8c172d-726a-421b-a539-ba42b129de4c",
   "metadata": {},
   "outputs": [],
   "source": [
    "from tensorflow.keras.preprocessing.image import ImageDataGenerator"
   ]
  },
  {
   "cell_type": "code",
   "execution_count": 27,
   "id": "d231b8bb-991f-4caf-9fc9-2d7018a7dc58",
   "metadata": {},
   "outputs": [],
   "source": [
    "#batch_size = 32\n",
    "batch_size = 64\n",
    "\n",
    "def data_flow_fct(data, datagen, data_type=None) :\n",
    "    data_flow = datagen.flow_from_dataframe(data, directory='',\n",
    "                                x_col='path_image', y_col='main_category',\n",
    "                                weight_col=None, target_size=(256, 256),\n",
    "                                classes=None, class_mode='categorical',\n",
    "                                batch_size=batch_size, shuffle=True, seed=42,\n",
    "                                subset=data_type\n",
    "                                )\n",
    "    return data_flow"
   ]
  },
  {
   "cell_type": "markdown",
   "id": "33d8a23e-53d5-4902-b046-bdfa62437d1a",
   "metadata": {},
   "source": [
    "Le batch size, hyperparamètre en ML, détermine le nombre d'échantillons traités par itération d'entraînement. Plus il est élevé, plus l'entraînement est rapide mais demande plus de mémoire. Un batch size plus petit prend plus de temps mais peut donner un modèle plus précis. C'est un compromis entre vitesse et précision, dépendant de la taille des données et du matériel disponible.acteurs."
   ]
  },
  {
   "cell_type": "code",
   "execution_count": 28,
   "id": "0e781317-215f-44d8-850a-bc768a3f4831",
   "metadata": {},
   "outputs": [
    {
     "name": "stdout",
     "output_type": "stream",
     "text": [
      "Found 675 validated image filenames belonging to 7 classes.\n",
      "Found 225 validated image filenames belonging to 7 classes.\n",
      "Found 150 validated image filenames belonging to 7 classes.\n"
     ]
    }
   ],
   "source": [
    "datagen_train = ImageDataGenerator(\n",
    "#    featurewise_center=True,\n",
    "#    featurewise_std_normalization=True,\n",
    "    rotation_range=20,\n",
    "    width_shift_range=0.2,\n",
    "    height_shift_range=0.2,\n",
    "    horizontal_flip=True,\n",
    "    validation_split=0.25,\n",
    "    preprocessing_function=preprocess_input)\n",
    "\n",
    "datagen_test = ImageDataGenerator(validation_split=0,\n",
    "                                  preprocessing_function=preprocess_input)\n",
    "\n",
    "# train\n",
    "train_flow = data_flow_fct(data, datagen_train, data_type='training')\n",
    "# validation\n",
    "val_flow = data_flow_fct(data, datagen_train, data_type='validation')\n",
    "# test\n",
    "test_flow = data_flow_fct(data_test, datagen_test, data_type=None)\n",
    "\n",
    "# compute quantities required for featurewise normalization\n",
    "# (std, mean, and principal components if ZCA whitening is applied)\n",
    "# datagen.fit(X_train)\n",
    "# fits the model on batches with real-time data augmentation:"
   ]
  },
  {
   "cell_type": "markdown",
   "id": "3cf4c822-4bb2-4619-b5bd-3f6d9bb91ad1",
   "metadata": {},
   "source": [
    "Le code initialise trois objets ImageDataGenerator - datagen_train, datagen_test et datagen_val - pour l'augmentation et le prétraitement des données.\n",
    "\n",
    "datagen_train est utilisé pour générer des lots de données d'entraînement avec diverses transformations telles que la rotation, le retournement horizontal et le décalage. Il effectue également un prétraitement des données à l'aide d'une fonction appelée preprocess_input.\n",
    "\n",
    "datagen_test est utilisé pour générer des lots de données de test. Contrairement à datagen_train, il n'effectue pas d'augmentation de données, mais applique la même fonction de prétraitement que datagen_train.\n",
    "\n",
    "datagen_val n'est pas explicitement défini dans le bloc de code, mais il est utilisé indirectement via la fonction data_flow_fct pour générer des lots de données de validation avec les mêmes paramètres que datagen_train.\n",
    "\n",
    "Après l'initialisation des objets ImageDataGenerator, la fonction data_flow_fct est appelée trois fois avec différents paramètres pour créer trois objets ImageDataGenerator Keras - train_flow, val_flow et test_flow - qui sont utilisés pour fournir les données d'entraînement, de validation et de test au modèle pendant l'entraînement.\n",
    "\n",
    "train_flow et val_flow sont générés à l'aide de datagen_train et sont utilisés pour générer des lots de données d'entraînement et de validation, respectivement. test_flow est généré à l'aide de datagen_test et est utilisé pour générer des lots de données de test.\n",
    "\n",
    "Le paramètre validation_split est utilisé pour spécifier la proportion de données qui doivent être réservées à la validation pendant l'entraînement. Dans ce cas, 25% des données sont utilisées pour la validation."
   ]
  },
  {
   "cell_type": "code",
   "execution_count": 29,
   "id": "42419de2-8cc4-4ca8-a938-6005582b556d",
   "metadata": {},
   "outputs": [
    {
     "name": "stdout",
     "output_type": "stream",
     "text": [
      "Model: \"model_1\"\n",
      "_________________________________________________________________\n",
      " Layer (type)                Output Shape              Param #   \n",
      "=================================================================\n",
      " input_2 (InputLayer)        [(None, 224, 224, 3)]     0         \n",
      "                                                                 \n",
      " block1_conv1 (Conv2D)       (None, 224, 224, 64)      1792      \n",
      "                                                                 \n",
      " block1_conv2 (Conv2D)       (None, 224, 224, 64)      36928     \n",
      "                                                                 \n",
      " block1_pool (MaxPooling2D)  (None, 112, 112, 64)      0         \n",
      "                                                                 \n",
      " block2_conv1 (Conv2D)       (None, 112, 112, 128)     73856     \n",
      "                                                                 \n",
      " block2_conv2 (Conv2D)       (None, 112, 112, 128)     147584    \n",
      "                                                                 \n",
      " block2_pool (MaxPooling2D)  (None, 56, 56, 128)       0         \n",
      "                                                                 \n",
      " block3_conv1 (Conv2D)       (None, 56, 56, 256)       295168    \n",
      "                                                                 \n",
      " block3_conv2 (Conv2D)       (None, 56, 56, 256)       590080    \n",
      "                                                                 \n",
      " block3_conv3 (Conv2D)       (None, 56, 56, 256)       590080    \n",
      "                                                                 \n",
      " block3_pool (MaxPooling2D)  (None, 28, 28, 256)       0         \n",
      "                                                                 \n",
      " block4_conv1 (Conv2D)       (None, 28, 28, 512)       1180160   \n",
      "                                                                 \n",
      " block4_conv2 (Conv2D)       (None, 28, 28, 512)       2359808   \n",
      "                                                                 \n",
      " block4_conv3 (Conv2D)       (None, 28, 28, 512)       2359808   \n",
      "                                                                 \n",
      " block4_pool (MaxPooling2D)  (None, 14, 14, 512)       0         \n",
      "                                                                 \n",
      " block5_conv1 (Conv2D)       (None, 14, 14, 512)       2359808   \n",
      "                                                                 \n",
      " block5_conv2 (Conv2D)       (None, 14, 14, 512)       2359808   \n",
      "                                                                 \n",
      " block5_conv3 (Conv2D)       (None, 14, 14, 512)       2359808   \n",
      "                                                                 \n",
      " block5_pool (MaxPooling2D)  (None, 7, 7, 512)         0         \n",
      "                                                                 \n",
      " global_average_pooling2d_1   (None, 512)              0         \n",
      " (GlobalAveragePooling2D)                                        \n",
      "                                                                 \n",
      " dense_2 (Dense)             (None, 256)               131328    \n",
      "                                                                 \n",
      " dropout_1 (Dropout)         (None, 256)               0         \n",
      "                                                                 \n",
      " dense_3 (Dense)             (None, 7)                 1799      \n",
      "                                                                 \n",
      "=================================================================\n",
      "Total params: 14,847,815\n",
      "Trainable params: 133,127\n",
      "Non-trainable params: 14,714,688\n",
      "_________________________________________________________________\n",
      "None\n"
     ]
    }
   ],
   "source": [
    "# Création du modèle\n",
    "with tf.device('/cpu:0'): \n",
    "    model2 = create_model_fct()\n",
    "\n",
    "# Création du callback\n",
    "model2_save_path = \"./model2_best_weights.h5\"\n",
    "checkpoint = ModelCheckpoint(model2_save_path,\n",
    "                             monitor='val_loss',\n",
    "                             verbose=1,\n",
    "                             save_best_only=True,\n",
    "                             mode='min')\n",
    "es = EarlyStopping(monitor='val_loss',\n",
    "                   mode='min',\n",
    "                   verbose=1,\n",
    "                   patience=5)\n",
    "callbacks_list = [checkpoint, es]"
   ]
  },
  {
   "cell_type": "markdown",
   "id": "d9e1b5e3-55e1-4d56-8c84-79f2d3569302",
   "metadata": {},
   "source": [
    "Dans ce code, un modèle est créé avec create_model_fct() et stocké dans la variable model2. Ensuite, un ModelCheckpoint et un EarlyStopping sont créés et stockés dans la liste callbacks_list. ModelCheckpoint permet de sauvegarder les poids du modèle avec la plus petite perte de validation (val_loss), tandis que EarlyStopping permet d'arrêter l'entraînement du modèle si la perte de validation (val_loss) n'a pas diminué après un certain nombre de patience epochs..m"
   ]
  },
  {
   "cell_type": "code",
   "execution_count": 30,
   "id": "cc190562-a03d-422d-b72b-a67f2823647b",
   "metadata": {},
   "outputs": [
    {
     "name": "stdout",
     "output_type": "stream",
     "text": [
      "Num GPUs Available:  0\n"
     ]
    }
   ],
   "source": [
    "print(\"Num GPUs Available: \", len(tf.config.list_physical_devices('GPU')))"
   ]
  },
  {
   "cell_type": "code",
   "execution_count": 31,
   "id": "840f0267-409d-48fb-af8e-d4755f3f31f2",
   "metadata": {},
   "outputs": [
    {
     "name": "stdout",
     "output_type": "stream",
     "text": [
      "Epoch 1/50\n",
      "11/11 [==============================] - ETA: 0s - loss: 5.1372 - accuracy: 0.4030 \n",
      "Epoch 1: val_loss improved from inf to 1.37407, saving model to .\\model2_best_weights.h5\n",
      "11/11 [==============================] - 219s 20s/step - loss: 5.1372 - accuracy: 0.4030 - val_loss: 1.3741 - val_accuracy: 0.7244\n",
      "Epoch 2/50\n",
      "11/11 [==============================] - ETA: 0s - loss: 1.8627 - accuracy: 0.6326 \n",
      "Epoch 2: val_loss improved from 1.37407 to 1.15575, saving model to .\\model2_best_weights.h5\n",
      "11/11 [==============================] - 213s 20s/step - loss: 1.8627 - accuracy: 0.6326 - val_loss: 1.1558 - val_accuracy: 0.7644\n",
      "Epoch 3/50\n",
      "11/11 [==============================] - ETA: 0s - loss: 1.3445 - accuracy: 0.7111 \n",
      "Epoch 3: val_loss improved from 1.15575 to 1.14881, saving model to .\\model2_best_weights.h5\n",
      "11/11 [==============================] - 212s 20s/step - loss: 1.3445 - accuracy: 0.7111 - val_loss: 1.1488 - val_accuracy: 0.7689\n",
      "Epoch 4/50\n",
      "11/11 [==============================] - ETA: 0s - loss: 1.0337 - accuracy: 0.7259 \n",
      "Epoch 4: val_loss improved from 1.14881 to 1.10332, saving model to .\\model2_best_weights.h5\n",
      "11/11 [==============================] - 217s 21s/step - loss: 1.0337 - accuracy: 0.7259 - val_loss: 1.1033 - val_accuracy: 0.7867\n",
      "Epoch 5/50\n",
      "11/11 [==============================] - ETA: 0s - loss: 0.7716 - accuracy: 0.7822 \n",
      "Epoch 5: val_loss improved from 1.10332 to 1.01411, saving model to .\\model2_best_weights.h5\n",
      "11/11 [==============================] - 216s 20s/step - loss: 0.7716 - accuracy: 0.7822 - val_loss: 1.0141 - val_accuracy: 0.7911\n",
      "Epoch 6/50\n",
      "11/11 [==============================] - ETA: 0s - loss: 0.7162 - accuracy: 0.7719 \n",
      "Epoch 6: val_loss improved from 1.01411 to 0.92436, saving model to .\\model2_best_weights.h5\n",
      "11/11 [==============================] - 213s 20s/step - loss: 0.7162 - accuracy: 0.7719 - val_loss: 0.9244 - val_accuracy: 0.8044\n",
      "Epoch 7/50\n",
      "11/11 [==============================] - ETA: 0s - loss: 0.5178 - accuracy: 0.8237 \n",
      "Epoch 7: val_loss improved from 0.92436 to 0.89787, saving model to .\\model2_best_weights.h5\n",
      "11/11 [==============================] - 213s 20s/step - loss: 0.5178 - accuracy: 0.8237 - val_loss: 0.8979 - val_accuracy: 0.8444\n",
      "Epoch 8/50\n",
      "11/11 [==============================] - ETA: 0s - loss: 0.5869 - accuracy: 0.8178 \n",
      "Epoch 8: val_loss improved from 0.89787 to 0.88001, saving model to .\\model2_best_weights.h5\n",
      "11/11 [==============================] - 213s 20s/step - loss: 0.5869 - accuracy: 0.8178 - val_loss: 0.8800 - val_accuracy: 0.8133\n",
      "Epoch 9/50\n",
      "11/11 [==============================] - ETA: 0s - loss: 0.4841 - accuracy: 0.8385 \n",
      "Epoch 9: val_loss did not improve from 0.88001\n",
      "11/11 [==============================] - 212s 20s/step - loss: 0.4841 - accuracy: 0.8385 - val_loss: 0.9232 - val_accuracy: 0.8089\n",
      "Epoch 10/50\n",
      "11/11 [==============================] - ETA: 0s - loss: 0.3829 - accuracy: 0.8785 \n",
      "Epoch 10: val_loss improved from 0.88001 to 0.86366, saving model to .\\model2_best_weights.h5\n",
      "11/11 [==============================] - 213s 20s/step - loss: 0.3829 - accuracy: 0.8785 - val_loss: 0.8637 - val_accuracy: 0.8044\n",
      "Epoch 11/50\n",
      "11/11 [==============================] - ETA: 0s - loss: 0.3312 - accuracy: 0.8844 \n",
      "Epoch 11: val_loss did not improve from 0.86366\n",
      "11/11 [==============================] - 213s 20s/step - loss: 0.3312 - accuracy: 0.8844 - val_loss: 0.9664 - val_accuracy: 0.8222\n",
      "Epoch 12/50\n",
      "11/11 [==============================] - ETA: 0s - loss: 0.3150 - accuracy: 0.8963 \n",
      "Epoch 12: val_loss did not improve from 0.86366\n",
      "11/11 [==============================] - 215s 20s/step - loss: 0.3150 - accuracy: 0.8963 - val_loss: 1.0403 - val_accuracy: 0.8178\n",
      "Epoch 13/50\n",
      "11/11 [==============================] - ETA: 0s - loss: 0.3519 - accuracy: 0.8933 \n",
      "Epoch 13: val_loss did not improve from 0.86366\n",
      "11/11 [==============================] - 218s 20s/step - loss: 0.3519 - accuracy: 0.8933 - val_loss: 0.9177 - val_accuracy: 0.8489\n",
      "Epoch 14/50\n",
      "11/11 [==============================] - ETA: 0s - loss: 0.2621 - accuracy: 0.9052 \n",
      "Epoch 14: val_loss did not improve from 0.86366\n",
      "11/11 [==============================] - 213s 20s/step - loss: 0.2621 - accuracy: 0.9052 - val_loss: 0.9150 - val_accuracy: 0.8222\n",
      "Epoch 15/50\n",
      "11/11 [==============================] - ETA: 0s - loss: 0.2702 - accuracy: 0.9007 \n",
      "Epoch 15: val_loss improved from 0.86366 to 0.83806, saving model to .\\model2_best_weights.h5\n",
      "11/11 [==============================] - 214s 20s/step - loss: 0.2702 - accuracy: 0.9007 - val_loss: 0.8381 - val_accuracy: 0.8400\n",
      "Epoch 16/50\n",
      "11/11 [==============================] - ETA: 0s - loss: 0.1873 - accuracy: 0.9348 \n",
      "Epoch 16: val_loss did not improve from 0.83806\n",
      "11/11 [==============================] - 212s 20s/step - loss: 0.1873 - accuracy: 0.9348 - val_loss: 0.9847 - val_accuracy: 0.8444\n",
      "Epoch 17/50\n",
      "11/11 [==============================] - ETA: 0s - loss: 0.2452 - accuracy: 0.9274 \n",
      "Epoch 17: val_loss improved from 0.83806 to 0.82983, saving model to .\\model2_best_weights.h5\n",
      "11/11 [==============================] - 213s 20s/step - loss: 0.2452 - accuracy: 0.9274 - val_loss: 0.8298 - val_accuracy: 0.8444\n",
      "Epoch 18/50\n",
      "11/11 [==============================] - ETA: 0s - loss: 0.1844 - accuracy: 0.9363 \n",
      "Epoch 18: val_loss did not improve from 0.82983\n",
      "11/11 [==============================] - 213s 20s/step - loss: 0.1844 - accuracy: 0.9363 - val_loss: 0.9382 - val_accuracy: 0.8444\n",
      "Epoch 19/50\n",
      "11/11 [==============================] - ETA: 0s - loss: 0.1893 - accuracy: 0.9333 \n",
      "Epoch 19: val_loss did not improve from 0.82983\n",
      "11/11 [==============================] - 211s 20s/step - loss: 0.1893 - accuracy: 0.9333 - val_loss: 0.9628 - val_accuracy: 0.8356\n",
      "Epoch 20/50\n",
      "11/11 [==============================] - ETA: 0s - loss: 0.1335 - accuracy: 0.9615 \n",
      "Epoch 20: val_loss did not improve from 0.82983\n",
      "11/11 [==============================] - 211s 19s/step - loss: 0.1335 - accuracy: 0.9615 - val_loss: 0.9662 - val_accuracy: 0.8533\n",
      "Epoch 21/50\n",
      "11/11 [==============================] - ETA: 0s - loss: 0.1363 - accuracy: 0.9570 \n",
      "Epoch 21: val_loss did not improve from 0.82983\n",
      "11/11 [==============================] - 213s 20s/step - loss: 0.1363 - accuracy: 0.9570 - val_loss: 0.8846 - val_accuracy: 0.8444\n",
      "Epoch 22/50\n",
      "11/11 [==============================] - ETA: 0s - loss: 0.1936 - accuracy: 0.9393 \n",
      "Epoch 22: val_loss did not improve from 0.82983\n",
      "11/11 [==============================] - 213s 20s/step - loss: 0.1936 - accuracy: 0.9393 - val_loss: 0.9901 - val_accuracy: 0.8267\n",
      "Epoch 22: early stopping\n"
     ]
    }
   ],
   "source": [
    "with tf.device('/cpu:0'): \n",
    "    history2 = model2.fit(train_flow,\n",
    "                    validation_data=val_flow,\n",
    "                    batch_size=batch_size, epochs=50,\n",
    "                    callbacks=callbacks_list, verbose=1)"
   ]
  },
  {
   "cell_type": "code",
   "execution_count": 32,
   "id": "60caba4b-9510-4d83-a984-d3c3c3eb9b6d",
   "metadata": {},
   "outputs": [
    {
     "name": "stdout",
     "output_type": "stream",
     "text": [
      "11/11 [==============================] - 17781s 1776s/step - loss: 0.0390 - accuracy: 0.9881\n",
      "Training Accuracy   : 0.9881\n",
      "\n",
      "4/4 [==============================] - 47s 10s/step - loss: 1.0321 - accuracy: 0.8356\n",
      "Validation Accuracy :  0.8356\n"
     ]
    }
   ],
   "source": [
    "# Score du dernier epoch\n",
    "loss, accuracy = model2.evaluate(train_flow, verbose=True)\n",
    "print(\"Training Accuracy   : {:.4f}\".format(accuracy))\n",
    "print()\n",
    "loss, accuracy = model2.evaluate(val_flow, verbose=True)\n",
    "print(\"Validation Accuracy :  {:.4f}\".format(accuracy))"
   ]
  },
  {
   "cell_type": "code",
   "execution_count": 33,
   "id": "44866551-19d8-4f20-b671-973950e6cd7b",
   "metadata": {},
   "outputs": [
    {
     "name": "stdout",
     "output_type": "stream",
     "text": [
      "Validation Accuracy :  0.8222\n",
      "Test Accuracy       :  0.7800\n"
     ]
    }
   ],
   "source": [
    "# Score de l'epoch optimal\n",
    "model2.load_weights(model2_save_path)\n",
    "\n",
    "loss, accuracy = model2.evaluate(val_flow, verbose=False)\n",
    "print(\"Validation Accuracy :  {:.4f}\".format(accuracy))\n",
    "\n",
    "loss, accuracy = model2.evaluate(test_flow, verbose=False)\n",
    "print(\"Test Accuracy       :  {:.4f}\".format(accuracy))"
   ]
  },
  {
   "cell_type": "code",
   "execution_count": 34,
   "id": "a69decbc-6f7a-4792-9129-9059ec06a1c4",
   "metadata": {},
   "outputs": [
    {
     "data": {
      "image/png": "[encoded data removed]",
      "text/plain": [
       "<Figure size 1000x500 with 2 Axes>"
      ]
     },
     "metadata": {},
     "output_type": "display_data"
    }
   ],
   "source": [
    "show_history(history2)\n",
    "plot_history(history2, path=\"standard.png\")\n",
    "plt.close()"
   ]
  },
  {
   "cell_type": "markdown",
   "id": "7556c758-369a-4b3c-8918-e13f70e2ee01",
   "metadata": {},
   "source": [
    "Globalement, les nouveaux résultats avec la data augmentation montre une amélioration à peine perceptible dans la capacité du modèle à minimiser la perte d'entraînement. "
   ]
  },
  {
   "cell_type": "markdown",
   "id": "32c97cb4-a2b5-496c-8abb-cc6ef76379e7",
   "metadata": {},
   "source": [
    "## V- Approche nouvelle par Dataset avec data augmentation intégrée au modèle\n",
    "\n",
    "Cette méthode combine les avantages de l'approche dataset traditionnelle avec ceux de l'augmentation de données en temps réel. Les données sont prétraitées comme dans l'approche dataset traditionnelle, mais au lieu de diviser les données en ensembles de formation, de validation et de test, les données d'entraînement sont augmentées en temps réel à l'aide de techniques telles que la rotation, le zoom, le décalage et la symétrie horizontale. Ces transformations sont appliquées de manière aléatoire à chaque image pendant l'entraînement, augmentant ainsi la quantité de données d'entraînement disponible et créant des variations des images originales.\r\n",
    "\r\n",
    "Cette approche peut produire des performances similaires à celles de l'approche dataset traditionnelle avec l'augmentation de données appliquée séparément, mais nécessite moins de temps et d'efforts pour préparer les donnée.\r\n",
    "s.les."
   ]
  },
  {
   "cell_type": "code",
   "execution_count": 35,
   "id": "55531d75-a83e-4533-91e0-1bc869020996",
   "metadata": {},
   "outputs": [],
   "source": [
    "#batch_size = 32\n",
    "batch_size = 64\n",
    "\n",
    "def data_flow_fct(data, datagen, data_type=None) :\n",
    "    data_flow = datagen.flow_from_dataframe(data, directory='',\n",
    "                                x_col='path_image', y_col='main_category',\n",
    "                                weight_col=None, target_size=(224, 224),\n",
    "                                classes=None, class_mode='categorical',\n",
    "                                batch_size=batch_size, shuffle=True, seed=42,\n",
    "                                subset=data_type\n",
    "                                )\n",
    "    return data_flow"
   ]
  },
  {
   "cell_type": "code",
   "execution_count": 36,
   "id": "b03bee53-4d15-49df-8975-3dcbb909a304",
   "metadata": {},
   "outputs": [
    {
     "name": "stdout",
     "output_type": "stream",
     "text": [
      "Found 675 validated image filenames belonging to 7 classes.\n",
      "Found 225 validated image filenames belonging to 7 classes.\n",
      "Found 150 validated image filenames belonging to 7 classes.\n"
     ]
    }
   ],
   "source": [
    "datagen_train = ImageDataGenerator(\n",
    "    rotation_range=20,\n",
    "    width_shift_range=0.2,\n",
    "    height_shift_range=0.2,\n",
    "    horizontal_flip=True,\n",
    "    validation_split=0.25,\n",
    "    preprocessing_function=preprocess_input)\n",
    "\n",
    "datagen_test = ImageDataGenerator(validation_split=0,\n",
    "                                  preprocessing_function=preprocess_input)\n",
    "\n",
    "# train\n",
    "train_flow = data_flow_fct(data, datagen_train, data_type='training')\n",
    "# validation\n",
    "val_flow = data_flow_fct(data, datagen_train, data_type='validation')\n",
    "# test\n",
    "test_flow = data_flow_fct(data_test, datagen_test, data_type=None)"
   ]
  },
  {
   "cell_type": "code",
   "execution_count": 37,
   "id": "6a8816e2-6113-4c94-a2d5-c83130b5f2ae",
   "metadata": {},
   "outputs": [],
   "source": [
    "def create_model_fct2() :\n",
    "    # Data augmentation\n",
    "    data_augmentation = Sequential([\n",
    "        RandomFlip(\"horizontal\", input_shape=(224, 224, 3)),\n",
    "        RandomRotation(0.1),\n",
    "        RandomZoom(0.1),\n",
    "        # Rescaling(1./127.5, offset=-1.0)\n",
    "      ])\n",
    "    \n",
    "    # Récupération modèle pré-entraîné\n",
    "    model_base = VGG16(include_top=False, weights=\"imagenet\", input_shape=(224, 224, 3))\n",
    "    for layer in model_base.layers:\n",
    "        layer.trainable = False\n",
    "\n",
    "    # Définition du nouveau modèle\n",
    "    model = Sequential([\n",
    "                data_augmentation,\n",
    "                Rescaling(1./127.5, offset=-1),\n",
    "                model_base,\n",
    "                GlobalAveragePooling2D(),\n",
    "                Dense(256, activation='relu'),\n",
    "                Dropout(0.5),\n",
    "                Dense(7, activation='softmax')\n",
    "                ])\n",
    "\n",
    "    # compilation du modèle \n",
    "    model.compile(loss=\"categorical_crossentropy\", optimizer='adam', metrics=[\"accuracy\"])\n",
    "\n",
    "    print(model.summary())\n",
    "    \n",
    "    return model"
   ]
  },
  {
   "cell_type": "markdown",
   "id": "8415dcac-90d1-4e28-afcd-2be8a0aed441",
   "metadata": {},
   "source": [
    "La fonction `create_model_fct2` crée un modèle de réseau de neurones convolutifs pour la classification d'images en utilisant VGG16 comme base. Voici ce que fait la fonction :\r\n",
    "\r\n",
    "- **Augmentation de données** : Elle modifie les images d'entrée avec des retournements, des rotations et des zooms aléatoires pour diversifier les données d'entraînement.\r\n",
    "  \r\n",
    "- **Modèle de base** : Elle charge le modèle VGG16 avec des poids pré-entraînés depuis \"imagenet\".\r\n",
    "  \r\n",
    "- **Nouveau modèle** : Elle assemble un nouveau modèle avec une couche de normalisation, VGG16, une couche de mise en commun, deux couches de neurones connectés, et une couche de sortie pour la classification.\r\n",
    "\r\n",
    "- **Compilation du modèle** : Elle compile le modèle avec une fonction de perte, un optimiseur et des métriques pour l'entraînement.\r\n",
    "\r\n",
    "Enfin, la fonction retourne le modèle prêt à être entraîné.\r\n"
   ]
  },
  {
   "cell_type": "code",
   "execution_count": 38,
   "id": "db97c5ea-dbcb-4903-b8fa-f0a254c127ae",
   "metadata": {},
   "outputs": [
    {
     "name": "stdout",
     "output_type": "stream",
     "text": [
      "Model: \"sequential_1\"\n",
      "_________________________________________________________________\n",
      " Layer (type)                Output Shape              Param #   \n",
      "=================================================================\n",
      " sequential (Sequential)     (None, 224, 224, 3)       0         \n",
      "                                                                 \n",
      " rescaling (Rescaling)       (None, 224, 224, 3)       0         \n",
      "                                                                 \n",
      " vgg16 (Functional)          (None, 7, 7, 512)         14714688  \n",
      "                                                                 \n",
      " global_average_pooling2d_2   (None, 512)              0         \n",
      " (GlobalAveragePooling2D)                                        \n",
      "                                                                 \n",
      " dense_4 (Dense)             (None, 256)               131328    \n",
      "                                                                 \n",
      " dropout_2 (Dropout)         (None, 256)               0         \n",
      "                                                                 \n",
      " dense_5 (Dense)             (None, 7)                 1799      \n",
      "                                                                 \n",
      "=================================================================\n",
      "Total params: 14,847,815\n",
      "Trainable params: 133,127\n",
      "Non-trainable params: 14,714,688\n",
      "_________________________________________________________________\n",
      "None\n"
     ]
    }
   ],
   "source": [
    "# Création du modèle\n",
    "with tf.device('/gpu:0'): \n",
    "    model4 = create_model_fct2()\n",
    "\n",
    "# Création du callback\n",
    "model4_save_path = \"./model4_best_weights.h5\"\n",
    "checkpoint = ModelCheckpoint(model4_save_path, monitor='val_loss', verbose=1, save_best_only=True, mode='min')\n",
    "es = EarlyStopping(monitor='val_loss', mode='min', verbose=1, patience=5)\n",
    "callbacks_list = [checkpoint, es]"
   ]
  },
  {
   "cell_type": "code",
   "execution_count": 39,
   "id": "ba662188-6f51-42cf-be5f-a50df14f9f74",
   "metadata": {},
   "outputs": [
    {
     "name": "stdout",
     "output_type": "stream",
     "text": [
      "Num GPUs Available:  0\n"
     ]
    }
   ],
   "source": [
    "print(\"Num GPUs Available: \", len(tf.config.list_physical_devices('GPU')))"
   ]
  },
  {
   "cell_type": "code",
   "execution_count": 40,
   "id": "511c89c0-a02e-4c2e-a8b2-937caef4d6d7",
   "metadata": {},
   "outputs": [
    {
     "name": "stdout",
     "output_type": "stream",
     "text": [
      "Epoch 1/50\n",
      "WARNING:tensorflow:Using a while_loop for converting RngReadAndSkip cause there is no registered converter for this op.\n",
      "WARNING:tensorflow:Using a while_loop for converting Bitcast cause there is no registered converter for this op.\n",
      "WARNING:tensorflow:Using a while_loop for converting Bitcast cause there is no registered converter for this op.\n",
      "WARNING:tensorflow:Using a while_loop for converting StatelessRandomUniformV2 cause there is no registered converter for this op.\n",
      "WARNING:tensorflow:Using a while_loop for converting ImageProjectiveTransformV3 cause there is no registered converter for this op.\n",
      "WARNING:tensorflow:Using a while_loop for converting RngReadAndSkip cause there is no registered converter for this op.\n",
      "WARNING:tensorflow:Using a while_loop for converting Bitcast cause there is no registered converter for this op.\n",
      "WARNING:tensorflow:Using a while_loop for converting Bitcast cause there is no registered converter for this op.\n",
      "WARNING:tensorflow:Using a while_loop for converting StatelessRandomUniformV2 cause there is no registered converter for this op.\n",
      "WARNING:tensorflow:Using a while_loop for converting ImageProjectiveTransformV3 cause there is no registered converter for this op.\n",
      "WARNING:tensorflow:Using a while_loop for converting RngReadAndSkip cause there is no registered converter for this op.\n",
      "WARNING:tensorflow:Using a while_loop for converting Bitcast cause there is no registered converter for this op.\n",
      "WARNING:tensorflow:Using a while_loop for converting Bitcast cause there is no registered converter for this op.\n",
      "WARNING:tensorflow:Using a while_loop for converting StatelessRandomUniformV2 cause there is no registered converter for this op.\n",
      "WARNING:tensorflow:Using a while_loop for converting ImageProjectiveTransformV3 cause there is no registered converter for this op.\n",
      "WARNING:tensorflow:Using a while_loop for converting RngReadAndSkip cause there is no registered converter for this op.\n",
      "WARNING:tensorflow:Using a while_loop for converting Bitcast cause there is no registered converter for this op.\n",
      "WARNING:tensorflow:Using a while_loop for converting Bitcast cause there is no registered converter for this op.\n",
      "WARNING:tensorflow:Using a while_loop for converting StatelessRandomUniformV2 cause there is no registered converter for this op.\n",
      "WARNING:tensorflow:Using a while_loop for converting ImageProjectiveTransformV3 cause there is no registered converter for this op.\n",
      "11/11 [==============================] - ETA: 0s - loss: 1.9648 - accuracy: 0.2089 \n",
      "Epoch 1: val_loss improved from inf to 1.58341, saving model to .\\model4_best_weights.h5\n",
      "11/11 [==============================] - 167s 15s/step - loss: 1.9648 - accuracy: 0.2089 - val_loss: 1.5834 - val_accuracy: 0.5333\n",
      "Epoch 2/50\n",
      "11/11 [==============================] - ETA: 0s - loss: 1.6001 - accuracy: 0.4193 \n",
      "Epoch 2: val_loss improved from 1.58341 to 1.28153, saving model to .\\model4_best_weights.h5\n",
      "11/11 [==============================] - 167s 15s/step - loss: 1.6001 - accuracy: 0.4193 - val_loss: 1.2815 - val_accuracy: 0.6978\n",
      "Epoch 3/50\n",
      "11/11 [==============================] - ETA: 0s - loss: 1.3698 - accuracy: 0.5348 \n",
      "Epoch 3: val_loss improved from 1.28153 to 1.10261, saving model to .\\model4_best_weights.h5\n",
      "11/11 [==============================] - 169s 16s/step - loss: 1.3698 - accuracy: 0.5348 - val_loss: 1.1026 - val_accuracy: 0.7244\n",
      "Epoch 4/50\n",
      "11/11 [==============================] - ETA: 0s - loss: 1.1783 - accuracy: 0.6415 \n",
      "Epoch 4: val_loss improved from 1.10261 to 0.94047, saving model to .\\model4_best_weights.h5\n",
      "11/11 [==============================] - 167s 15s/step - loss: 1.1783 - accuracy: 0.6415 - val_loss: 0.9405 - val_accuracy: 0.7644\n",
      "Epoch 5/50\n",
      "11/11 [==============================] - ETA: 0s - loss: 1.0928 - accuracy: 0.6533 \n",
      "Epoch 5: val_loss improved from 0.94047 to 0.88797, saving model to .\\model4_best_weights.h5\n",
      "11/11 [==============================] - 168s 16s/step - loss: 1.0928 - accuracy: 0.6533 - val_loss: 0.8880 - val_accuracy: 0.7689\n",
      "Epoch 6/50\n",
      "11/11 [==============================] - ETA: 0s - loss: 1.0206 - accuracy: 0.6815 \n",
      "Epoch 6: val_loss improved from 0.88797 to 0.82104, saving model to .\\model4_best_weights.h5\n",
      "11/11 [==============================] - 168s 15s/step - loss: 1.0206 - accuracy: 0.6815 - val_loss: 0.8210 - val_accuracy: 0.7689\n",
      "Epoch 7/50\n",
      "11/11 [==============================] - ETA: 0s - loss: 0.9777 - accuracy: 0.7022 \n",
      "Epoch 7: val_loss improved from 0.82104 to 0.80115, saving model to .\\model4_best_weights.h5\n",
      "11/11 [==============================] - 167s 15s/step - loss: 0.9777 - accuracy: 0.7022 - val_loss: 0.8012 - val_accuracy: 0.7911\n",
      "Epoch 8/50\n",
      "11/11 [==============================] - ETA: 0s - loss: 0.9201 - accuracy: 0.7037 \n",
      "Epoch 8: val_loss improved from 0.80115 to 0.74160, saving model to .\\model4_best_weights.h5\n",
      "11/11 [==============================] - 167s 15s/step - loss: 0.9201 - accuracy: 0.7037 - val_loss: 0.7416 - val_accuracy: 0.8000\n",
      "Epoch 9/50\n",
      "11/11 [==============================] - ETA: 0s - loss: 0.8731 - accuracy: 0.7230 \n",
      "Epoch 9: val_loss improved from 0.74160 to 0.73656, saving model to .\\model4_best_weights.h5\n",
      "11/11 [==============================] - 167s 15s/step - loss: 0.8731 - accuracy: 0.7230 - val_loss: 0.7366 - val_accuracy: 0.7867\n",
      "Epoch 10/50\n",
      "11/11 [==============================] - ETA: 0s - loss: 0.8175 - accuracy: 0.7422 \n",
      "Epoch 10: val_loss improved from 0.73656 to 0.70148, saving model to .\\model4_best_weights.h5\n",
      "11/11 [==============================] - 168s 15s/step - loss: 0.8175 - accuracy: 0.7422 - val_loss: 0.7015 - val_accuracy: 0.7778\n",
      "Epoch 11/50\n",
      "11/11 [==============================] - ETA: 0s - loss: 0.8291 - accuracy: 0.7348 \n",
      "Epoch 11: val_loss improved from 0.70148 to 0.69804, saving model to .\\model4_best_weights.h5\n",
      "11/11 [==============================] - 167s 15s/step - loss: 0.8291 - accuracy: 0.7348 - val_loss: 0.6980 - val_accuracy: 0.7911\n",
      "Epoch 12/50\n",
      "11/11 [==============================] - ETA: 0s - loss: 0.7884 - accuracy: 0.7393 \n",
      "Epoch 12: val_loss improved from 0.69804 to 0.69761, saving model to .\\model4_best_weights.h5\n",
      "11/11 [==============================] - 167s 15s/step - loss: 0.7884 - accuracy: 0.7393 - val_loss: 0.6976 - val_accuracy: 0.7733\n",
      "Epoch 13/50\n",
      "11/11 [==============================] - ETA: 0s - loss: 0.7306 - accuracy: 0.7659 \n",
      "Epoch 13: val_loss improved from 0.69761 to 0.64426, saving model to .\\model4_best_weights.h5\n",
      "11/11 [==============================] - 167s 15s/step - loss: 0.7306 - accuracy: 0.7659 - val_loss: 0.6443 - val_accuracy: 0.8133\n",
      "Epoch 14/50\n",
      "11/11 [==============================] - ETA: 0s - loss: 0.7635 - accuracy: 0.7644 \n",
      "Epoch 14: val_loss improved from 0.64426 to 0.64121, saving model to .\\model4_best_weights.h5\n",
      "11/11 [==============================] - 168s 15s/step - loss: 0.7635 - accuracy: 0.7644 - val_loss: 0.6412 - val_accuracy: 0.8400\n",
      "Epoch 15/50\n",
      "11/11 [==============================] - ETA: 0s - loss: 0.7275 - accuracy: 0.7689 \n",
      "Epoch 15: val_loss improved from 0.64121 to 0.62592, saving model to .\\model4_best_weights.h5\n",
      "11/11 [==============================] - 167s 15s/step - loss: 0.7275 - accuracy: 0.7689 - val_loss: 0.6259 - val_accuracy: 0.8222\n",
      "Epoch 16/50\n",
      "11/11 [==============================] - ETA: 0s - loss: 0.7017 - accuracy: 0.7793 \n",
      "Epoch 16: val_loss did not improve from 0.62592\n",
      "11/11 [==============================] - 167s 15s/step - loss: 0.7017 - accuracy: 0.7793 - val_loss: 0.6518 - val_accuracy: 0.7867\n",
      "Epoch 17/50\n",
      "11/11 [==============================] - ETA: 0s - loss: 0.7270 - accuracy: 0.7556 \n",
      "Epoch 17: val_loss improved from 0.62592 to 0.62336, saving model to .\\model4_best_weights.h5\n",
      "11/11 [==============================] - 167s 15s/step - loss: 0.7270 - accuracy: 0.7556 - val_loss: 0.6234 - val_accuracy: 0.8267\n",
      "Epoch 18/50\n",
      "11/11 [==============================] - ETA: 0s - loss: 0.6759 - accuracy: 0.7793 \n",
      "Epoch 18: val_loss did not improve from 0.62336\n",
      "11/11 [==============================] - 168s 15s/step - loss: 0.6759 - accuracy: 0.7793 - val_loss: 0.6621 - val_accuracy: 0.8044\n",
      "Epoch 19/50\n",
      "11/11 [==============================] - ETA: 0s - loss: 0.6519 - accuracy: 0.8000 \n",
      "Epoch 19: val_loss improved from 0.62336 to 0.62062, saving model to .\\model4_best_weights.h5\n",
      "11/11 [==============================] - 170s 16s/step - loss: 0.6519 - accuracy: 0.8000 - val_loss: 0.6206 - val_accuracy: 0.8000\n",
      "Epoch 20/50\n",
      "11/11 [==============================] - ETA: 0s - loss: 0.6401 - accuracy: 0.8015 \n",
      "Epoch 20: val_loss improved from 0.62062 to 0.61592, saving model to .\\model4_best_weights.h5\n",
      "11/11 [==============================] - 168s 15s/step - loss: 0.6401 - accuracy: 0.8015 - val_loss: 0.6159 - val_accuracy: 0.8044\n",
      "Epoch 21/50\n",
      "11/11 [==============================] - ETA: 0s - loss: 0.6238 - accuracy: 0.7822 \n",
      "Epoch 21: val_loss did not improve from 0.61592\n",
      "11/11 [==============================] - 169s 16s/step - loss: 0.6238 - accuracy: 0.7822 - val_loss: 0.6256 - val_accuracy: 0.8178\n",
      "Epoch 22/50\n",
      "11/11 [==============================] - ETA: 0s - loss: 0.6445 - accuracy: 0.8074 \n",
      "Epoch 22: val_loss did not improve from 0.61592\n",
      "11/11 [==============================] - 168s 15s/step - loss: 0.6445 - accuracy: 0.8074 - val_loss: 0.6384 - val_accuracy: 0.7956\n",
      "Epoch 23/50\n",
      "11/11 [==============================] - ETA: 0s - loss: 0.6181 - accuracy: 0.8044 \n",
      "Epoch 23: val_loss did not improve from 0.61592\n",
      "11/11 [==============================] - 168s 15s/step - loss: 0.6181 - accuracy: 0.8044 - val_loss: 0.6421 - val_accuracy: 0.8133\n",
      "Epoch 24/50\n",
      "11/11 [==============================] - ETA: 0s - loss: 0.6065 - accuracy: 0.7985 \n",
      "Epoch 24: val_loss did not improve from 0.61592\n",
      "11/11 [==============================] - 170s 16s/step - loss: 0.6065 - accuracy: 0.7985 - val_loss: 0.6434 - val_accuracy: 0.7911\n",
      "Epoch 25/50\n",
      "11/11 [==============================] - ETA: 0s - loss: 0.5872 - accuracy: 0.8133 \n",
      "Epoch 25: val_loss did not improve from 0.61592\n",
      "11/11 [==============================] - 169s 16s/step - loss: 0.5872 - accuracy: 0.8133 - val_loss: 0.6386 - val_accuracy: 0.7911\n",
      "Epoch 25: early stopping\n"
     ]
    }
   ],
   "source": [
    "with tf.device('/gpu:0'): \n",
    "    history4 = model4.fit(train_flow,\n",
    "                    validation_data=val_flow,\n",
    "                    batch_size=batch_size, epochs=50, callbacks=callbacks_list, verbose=1)"
   ]
  },
  {
   "cell_type": "code",
   "execution_count": 41,
   "id": "daada178-a668-43db-9b8b-5b3c6d3b80c9",
   "metadata": {},
   "outputs": [
    {
     "name": "stdout",
     "output_type": "stream",
     "text": [
      "11/11 [==============================] - 124s 11s/step - loss: 0.4559 - accuracy: 0.8593\n",
      "Training Accuracy   : 0.8593\n",
      "\n",
      "4/4 [==============================] - 41s 10s/step - loss: 0.6033 - accuracy: 0.8267\n",
      "Validation Accuracy :  0.8267\n"
     ]
    }
   ],
   "source": [
    "# Score du dernier epoch\n",
    "\n",
    "loss, accuracy = model4.evaluate(train_flow, verbose=True)\n",
    "print(\"Training Accuracy   : {:.4f}\".format(accuracy))\n",
    "print()\n",
    "loss, accuracy = model4.evaluate(val_flow, verbose=True)\n",
    "print(\"Validation Accuracy :  {:.4f}\".format(accuracy))"
   ]
  },
  {
   "cell_type": "code",
   "execution_count": 42,
   "id": "c3934ab6-98a7-4c1e-a603-89ab95c4d226",
   "metadata": {},
   "outputs": [
    {
     "name": "stdout",
     "output_type": "stream",
     "text": [
      "Validation Accuracy :  0.8222\n",
      "Test Accuracy       :  0.7333\n"
     ]
    }
   ],
   "source": [
    "# Score de l'epoch optimal\n",
    "\n",
    "model4.load_weights(model4_save_path)\n",
    "\n",
    "loss, accuracy = model4.evaluate(val_flow, verbose=False)\n",
    "print(\"Validation Accuracy :  {:.4f}\".format(accuracy))\n",
    "\n",
    "loss, accuracy = model4.evaluate(test_flow, verbose=False)\n",
    "print(\"Test Accuracy       :  {:.4f}\".format(accuracy))\n"
   ]
  },
  {
   "cell_type": "code",
   "execution_count": 43,
   "id": "7bc5a789-edbe-4aa5-9245-70da8e05da3a",
   "metadata": {},
   "outputs": [
    {
     "data": {
      "image/png": "[encoded data removed]",
      "text/plain": [
       "<Figure size 1000x500 with 2 Axes>"
      ]
     },
     "metadata": {},
     "output_type": "display_data"
    }
   ],
   "source": [
    "show_history(history4)\n",
    "plot_history(history4, path=\"standard.png\")\n",
    "plt.close()"
   ]
  },
  {
   "cell_type": "markdown",
   "id": "799ba5c4-d647-4842-90a9-b7a4c74e3376",
   "metadata": {},
   "source": [
    "## Conclusion\n",
    "\n",
    "- Le modèle retenu est donc VGG16 avec data augmentation, l’optimizer rmsprop et des batch de 64.\n",
    "- Les résultats sont corrects au regard du nombre d’images\n",
    "- La data augmentation permet surtout d’éviter le sur-apprentissage"
   ]
  }
 ],
 "metadata": {
  "kernelspec": {
   "display_name": "Python 3 (ipykernel)",
   "language": "python",
   "name": "python3"
  },
  "language_info": {
   "codemirror_mode": {
    "name": "ipython",
    "version": 3
   },
   "file_extension": ".py",
   "mimetype": "text/x-python",
   "name": "python",
   "nbconvert_exporter": "python",
   "pygments_lexer": "ipython3",
   "version": "3.9.18"
  }
 },
 "nbformat": 4,
 "nbformat_minor": 5
}
